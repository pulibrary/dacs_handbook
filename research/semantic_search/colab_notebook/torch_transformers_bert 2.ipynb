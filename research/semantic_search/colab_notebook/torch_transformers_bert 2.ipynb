{
  "nbformat": 4,
  "nbformat_minor": 0,
  "metadata": {
    "colab": {
      "provenance": []
    },
    "kernelspec": {
      "name": "python3",
      "display_name": "Python 3"
    },
    "language_info": {
      "name": "python"
    }
  },
  "cells": [
    {
      "cell_type": "markdown",
      "source": [],
      "metadata": {
        "id": "qaHOPn1TP66V"
      }
    },
    {
      "cell_type": "code",
      "source": [
        "#!pip uninstall numpy -y"
      ],
      "metadata": {
        "id": "19x7coVxd3ch"
      },
      "execution_count": 1,
      "outputs": []
    },
    {
      "cell_type": "code",
      "source": [
        "#!pip uninstall transformers torch torchvision numpy -y"
      ],
      "metadata": {
        "id": "OhPx83FyP-TJ"
      },
      "execution_count": 2,
      "outputs": []
    },
    {
      "cell_type": "code",
      "execution_count": 3,
      "metadata": {
        "colab": {
          "base_uri": "https://localhost:8080/"
        },
        "id": "osSCOy0M8KlP",
        "outputId": "c41c34af-a3ee-45b5-83ea-23d6c9c82845"
      },
      "outputs": [
        {
          "output_type": "stream",
          "name": "stdout",
          "text": [
            "Requirement already satisfied: transformers in /usr/local/lib/python3.11/dist-packages (4.52.3)\n",
            "Requirement already satisfied: torch in /usr/local/lib/python3.11/dist-packages (2.7.0)\n",
            "Requirement already satisfied: torchvision in /usr/local/lib/python3.11/dist-packages (0.22.0)\n",
            "Requirement already satisfied: numpy in /usr/local/lib/python3.11/dist-packages (2.2.6)\n",
            "Requirement already satisfied: filelock in /usr/local/lib/python3.11/dist-packages (from transformers) (3.18.0)\n",
            "Requirement already satisfied: huggingface-hub<1.0,>=0.30.0 in /usr/local/lib/python3.11/dist-packages (from transformers) (0.31.2)\n",
            "Requirement already satisfied: packaging>=20.0 in /usr/local/lib/python3.11/dist-packages (from transformers) (24.2)\n",
            "Requirement already satisfied: pyyaml>=5.1 in /usr/local/lib/python3.11/dist-packages (from transformers) (6.0.2)\n",
            "Requirement already satisfied: regex!=2019.12.17 in /usr/local/lib/python3.11/dist-packages (from transformers) (2024.11.6)\n",
            "Requirement already satisfied: requests in /usr/local/lib/python3.11/dist-packages (from transformers) (2.32.3)\n",
            "Requirement already satisfied: tokenizers<0.22,>=0.21 in /usr/local/lib/python3.11/dist-packages (from transformers) (0.21.1)\n",
            "Requirement already satisfied: safetensors>=0.4.3 in /usr/local/lib/python3.11/dist-packages (from transformers) (0.5.3)\n",
            "Requirement already satisfied: tqdm>=4.27 in /usr/local/lib/python3.11/dist-packages (from transformers) (4.67.1)\n",
            "Requirement already satisfied: typing-extensions>=4.10.0 in /usr/local/lib/python3.11/dist-packages (from torch) (4.13.2)\n",
            "Requirement already satisfied: sympy>=1.13.3 in /usr/local/lib/python3.11/dist-packages (from torch) (1.14.0)\n",
            "Requirement already satisfied: networkx in /usr/local/lib/python3.11/dist-packages (from torch) (3.4.2)\n",
            "Requirement already satisfied: jinja2 in /usr/local/lib/python3.11/dist-packages (from torch) (3.1.6)\n",
            "Requirement already satisfied: fsspec in /usr/local/lib/python3.11/dist-packages (from torch) (2025.3.2)\n",
            "Requirement already satisfied: nvidia-cuda-nvrtc-cu12==12.6.77 in /usr/local/lib/python3.11/dist-packages (from torch) (12.6.77)\n",
            "Requirement already satisfied: nvidia-cuda-runtime-cu12==12.6.77 in /usr/local/lib/python3.11/dist-packages (from torch) (12.6.77)\n",
            "Requirement already satisfied: nvidia-cuda-cupti-cu12==12.6.80 in /usr/local/lib/python3.11/dist-packages (from torch) (12.6.80)\n",
            "Requirement already satisfied: nvidia-cudnn-cu12==9.5.1.17 in /usr/local/lib/python3.11/dist-packages (from torch) (9.5.1.17)\n",
            "Requirement already satisfied: nvidia-cublas-cu12==12.6.4.1 in /usr/local/lib/python3.11/dist-packages (from torch) (12.6.4.1)\n",
            "Requirement already satisfied: nvidia-cufft-cu12==11.3.0.4 in /usr/local/lib/python3.11/dist-packages (from torch) (11.3.0.4)\n",
            "Requirement already satisfied: nvidia-curand-cu12==10.3.7.77 in /usr/local/lib/python3.11/dist-packages (from torch) (10.3.7.77)\n",
            "Requirement already satisfied: nvidia-cusolver-cu12==11.7.1.2 in /usr/local/lib/python3.11/dist-packages (from torch) (11.7.1.2)\n",
            "Requirement already satisfied: nvidia-cusparse-cu12==12.5.4.2 in /usr/local/lib/python3.11/dist-packages (from torch) (12.5.4.2)\n",
            "Requirement already satisfied: nvidia-cusparselt-cu12==0.6.3 in /usr/local/lib/python3.11/dist-packages (from torch) (0.6.3)\n",
            "Requirement already satisfied: nvidia-nccl-cu12==2.26.2 in /usr/local/lib/python3.11/dist-packages (from torch) (2.26.2)\n",
            "Requirement already satisfied: nvidia-nvtx-cu12==12.6.77 in /usr/local/lib/python3.11/dist-packages (from torch) (12.6.77)\n",
            "Requirement already satisfied: nvidia-nvjitlink-cu12==12.6.85 in /usr/local/lib/python3.11/dist-packages (from torch) (12.6.85)\n",
            "Requirement already satisfied: nvidia-cufile-cu12==1.11.1.6 in /usr/local/lib/python3.11/dist-packages (from torch) (1.11.1.6)\n",
            "Requirement already satisfied: triton==3.3.0 in /usr/local/lib/python3.11/dist-packages (from torch) (3.3.0)\n",
            "Requirement already satisfied: setuptools>=40.8.0 in /usr/local/lib/python3.11/dist-packages (from triton==3.3.0->torch) (75.2.0)\n",
            "Requirement already satisfied: pillow!=8.3.*,>=5.3.0 in /usr/local/lib/python3.11/dist-packages (from torchvision) (11.2.1)\n",
            "Requirement already satisfied: mpmath<1.4,>=1.1.0 in /usr/local/lib/python3.11/dist-packages (from sympy>=1.13.3->torch) (1.3.0)\n",
            "Requirement already satisfied: MarkupSafe>=2.0 in /usr/local/lib/python3.11/dist-packages (from jinja2->torch) (3.0.2)\n",
            "Requirement already satisfied: charset-normalizer<4,>=2 in /usr/local/lib/python3.11/dist-packages (from requests->transformers) (3.4.2)\n",
            "Requirement already satisfied: idna<4,>=2.5 in /usr/local/lib/python3.11/dist-packages (from requests->transformers) (3.10)\n",
            "Requirement already satisfied: urllib3<3,>=1.21.1 in /usr/local/lib/python3.11/dist-packages (from requests->transformers) (2.4.0)\n",
            "Requirement already satisfied: certifi>=2017.4.17 in /usr/local/lib/python3.11/dist-packages (from requests->transformers) (2025.4.26)\n"
          ]
        }
      ],
      "source": [
        "!pip install transformers torch torchvision numpy --upgrade"
      ]
    },
    {
      "cell_type": "code",
      "source": [
        "# Show versions:\n",
        "!pip freeze | grep tensorflow\n",
        "!pip freeze | grep torch\n",
        "!pip freeze | grep numpy\n",
        "# Show Python version\n",
        "import os\n",
        "import sys\n",
        "print(sys.executable)\n",
        "print(sys.version)\n",
        "print(sys.version_info)"
      ],
      "metadata": {
        "colab": {
          "base_uri": "https://localhost:8080/"
        },
        "id": "RG0-kJvU8OFi",
        "outputId": "5bd77c59-162b-4285-a1b0-73000b78607b"
      },
      "execution_count": 4,
      "outputs": [
        {
          "output_type": "stream",
          "name": "stdout",
          "text": [
            "tensorflow==2.18.0\n",
            "tensorflow-datasets==4.9.8\n",
            "tensorflow-hub==0.16.1\n",
            "tensorflow-io-gcs-filesystem==0.37.1\n",
            "tensorflow-metadata==1.17.1\n",
            "tensorflow-probability==0.25.0\n",
            "tensorflow-text==2.18.1\n",
            "tensorflow_decision_forests==1.11.0\n",
            "torch==2.7.0\n",
            "torchao==0.10.0\n",
            "torchaudio @ https://download.pytorch.org/whl/cu124/torchaudio-2.6.0%2Bcu124-cp311-cp311-linux_x86_64.whl\n",
            "torchdata==0.11.0\n",
            "torchsummary==1.5.1\n",
            "torchtune==0.6.1\n",
            "torchvision==0.22.0\n",
            "numpy==2.2.6\n",
            "/usr/bin/python3\n",
            "3.11.12 (main, Apr  9 2025, 08:55:54) [GCC 11.4.0]\n",
            "sys.version_info(major=3, minor=11, micro=12, releaselevel='final', serial=0)\n"
          ]
        }
      ]
    },
    {
      "cell_type": "code",
      "source": [
        "from transformers import BertTokenizer, BertModel\n",
        "import torch\n",
        "import numpy as np\n",
        "from sklearn.metrics.pairwise import cosine_similarity\n",
        "\n",
        "# Check PyTorch version\n",
        "print(torch.__version__)\n",
        "print(torch.cuda.is_available)\n",
        "\n",
        "# torch.set_default_device(device='cuda:0')\n",
        "# torch.get_default_device()\n",
        "\n",
        "# print(torch.accelerator.current_accelerator().type)\n",
        "\n",
        "# Load pre-trained model and tokenizer\n",
        "tokenizer = BertTokenizer.from_pretrained('bert-base-uncased')\n",
        "model = BertModel.from_pretrained('bert-base-uncased')\n",
        "\n",
        "# Define the text\n",
        "texts = [\n",
        "  \"British writing from empire to Brexit : writing, identity and nation / Robert Spencer, Howard J. Booth, and Anastasia Valassopoulos. Abingdon, Oxon ; New York, NY : Routledge, Taylor & Francis Group, 2025. ©2025 National characteristics, British, in literature. European Union Great Britain. Great Britain In literature. Literature and society England History 19th century. Literature and society England History 20th century. English literature 19th century History and criticism. English literature 20th century History and criticism. Britanniques dans la littérature. (CaQQLa)000278323 Littérature et société (CaQQLa)201-0044931 Angleterre (CaQQLa)201-0476579 Histoire (CaQQLa)201-0378908 19e siècle. (CaQQLa)201-0378908 Littérature et société (CaQQLa)201-0044931 Angleterre (CaQQLa)201-0476579 Histoire (CaQQLa)201-0378892 20e siècle. (CaQQLa)201-0378892 Littérature anglaise (CaQQLa)201-0049945 19e siècle (CaQQLa)201-0049945 Histoire et critique. (CaQQLa)201-0377571 Littérature anglaise (CaQQLa)201-0021567 20e siècle (CaQQLa)201-0021567 Histoire et critique. (CaQQLa)201-0377571\",\n",
        "  \"Contesting cosmopolitan moments in the long eighteenth century / Enit Karafili Steiner. Edinburgh : Edinburgh University Press, [2025] British literature 18th century History and criticism. Cosmopolitanism in literature.\",\n",
        "  \"Radical writers and the media revolution in the late Enlightenment / Christoph Streb. Liverpool : Liverpool University Press, 2024. ©2024 British literature 18th century History. French literature 18th century History. Radicalism Great Britain 18th century History. Radicalism France 18th century History. Mass media Great Britain 18th century History. Mass media France 18th century History. Littérature britannique 18e siècle Histoire. Littérature française 18e siècle Histoire. Radicalisme Grande-Bretagne 18e siècle Histoire. Radicalisme France 18e siècle Histoire. Médias Grande-Bretagne 18e siècle Histoire. Médias France 18e siècle Histoire.\",\n",
        "  \"A brief record of the Oliver government. [Vancouver] : Sun Job Presses, [1920] Campaign literature Canada. Campagnes électorales Canada Documentation. British Columbia Politics and government 1916-1928. Colombie-Britannique Politique et gouvernement 1916-1928. British Columbia Liberal Association. British Columbia Liberal Association.\",\n",
        "  \"Misrule of the Oliver-Farris government. [Vancouver?] : Acme Press, [1920?] Campaign literature Canada. Campagne électorales Canada Documentation. British Columbia Politics and government 1916-1928. Colombie-Britannique Politique et gouvernement 1916-1928. Conservative Party of British Columbia. Conservative Party of British Columbia.\",\n",
        "  \"To the electors of Yale : yours respectfully John P. McConnell. [British Columbia? : publisher not identified, 1912?] Campaign literature Canada. Campagnes électorales Documentation Canada. British Columbia Politics and government 1903-1916. Colombie-Britannique Politique et gouvernement 1903-1916. British Columbia Liberal Association. Liberal Party in British Columbia Platforms. British Columbia Liberal Association. Parti libéral de la Colombie-Britannique Programmes.\",\n",
        "  \"Election address : Lieut.-Col. the Hon. E.G. Prior, Minister of Mines, the government candidate. [Victoria, B.C.? : publisher not identified, 1902?] Campaign literature British Columbia. Campagnes électorales Documentation Colombie-Britannique. British Columbia Politics and government 1871-1903. Colombie-Britannique Politique et gouvernement 1871-1903.\",\n",
        "  \"The Business record of a business government. [Victoria, B.C.] : Colonist Presses, [1909?] Campaign literature, Canadian, 1916 Conservative Party of British Columbia. Campagnes électorales Canada Documentation, 1916 Conservative Party of British Columbia. British Columbia Politics and government 1903-1916. Colombie-Britannique Politique et gouvernement 1903-1916.\",\n",
        "  \"A record of things done in behalf of the farmers : an account of what the Conservative government has done and is doing to promote the industry of agriculture in British Columbia and make easier the task of the tiller of the soil. [British Columbia? : publisher not identified, 1916?] Agricultural laws and legislation British Columbia. Agriculture and state British Columbia. Campaign literature, Canadian, 1916 Conservative Party of British Columbia. Campagnes électorales Canada Documentation, 1916 Conservative Party of British Columbia. Droit rural Colombie-Britannique. Politique agricole Colombie-Britannique.\",\n",
        "  \"The platform of the Liberal Party of British Columbia. [Vancouver : Saturday Sunset Presses, 1916?] Campaign literature, Canadian, 1916 Liberal Party in British Columbia. Campagnes électorales Canada Documentation, 1916 Parti libéral de la Colombie-Britannique. British Columbia Politics and government 1903-1916. Colombie-Britannique Politique et gouvernement 1903-1916.\",\n",
        "  \"Parry's third voyage for the discovery of a north-west passage in the years 1824 and 1825 : with an account of the Esquimaux / edited from Parry's first edition of his voyage with a biographical introduction. London; Glasgow : Blackie, 1894. Northwest Passage Juvenile literature. Inuit Juvenile literature. Inuit Ouvrages pour la jeunesse. Nord-Ouest, Passage du Ouvrages pour la jeunesse. Arctic regions Discovery and exploration British Juvenile literature. Régions arctiques Découverte et exploration britanniques Ouvrages pour la jeunesse. Parry, William Edward, Sir, 1790-1855 Juvenile literature. Parry, William Edward, Sir, 1790-1855 Ouvrages pour la jeunesse.\",\n",
        "  \"The Apple lands of Aldergrove. New Westminster, B.C. : F.J. Hart and Company, [1910? (Vancouver] : Evans and Hastings) Agriculture British Columbia Aldergrove. Agriculture Colombie-Britannique Aldergrove. Canadian immigration literature (English) 1897-1918. Aldergrove (C.-B.) Descriptions et voyages. Aldergrove (B.C.) Description and travel. Canada Émigration et immigration Guides, manuels, etc. anglais 1897- 1918.\",\n",
        "  \"Women of British Columbia : read the record of the Oliver government on matters in which you are vitally interested. Vancouver : Sun Job Presses, [1920?] Women Legal status, laws, etc. British Columbia. Campagnes électorales Canada Documentation, 1920 British Columbia Liberal Association. Femmes Droit Colombie-Britannique. Campaign literature, Canadian, 1920 British Columbia Liberal Association.\",\n",
        "  \"Vancouver Island, British Columbia, Canada : the farmer' s home ; berry growing, vegetable raising, fruit growing, poultry raising, dairying, mixed farming, horses, cattle, sheep and hogs, good prices and steady markets ; the best all-year round mild climate in Canada, no blizzards, no six months winter sieges, no sunstrokes, no furnace heat summers ; there are many places for settlers but only one place ; and that is - Vancouver Island, B.C., Canada. [British Columbia? : publisher not identified, 1913?] Agriculture Colombie-Britannique Vancouver, ÃƒÂ®le de. Agriculture British Columbia Vancouver Island. Canadian immigration literature (English) 1897-1918. Canada Émigration et immigration Guides, manuels, etc. anglais 1897- 1918.6 Vancouver, ÃƒÂ®le de (C.-B.) Descriptions et voyages.0 Vancouver Island (B.C.) Description and travel.\",\n",
        "  \"Discovering Britain and Ireland in the Romantic period : grand tours / edited by James Watt, Alison O'Byrne. Cambridge : Cambridge University Press, . Travelers' writings, British 19th century History and criticism. Travelers' writings, English Ireland History and criticism. Great Britain Description and travel. http://id.loc.gov/authorities/subjects/sh85056663 Ireland Description and travel. http://id.loc.gov/authorities/subjects/sh85067977 Romanticism Influence. Great Britain In literature. http://id.loc.gov/authorities/subjects/sh2007100286 Ireland In literature. http://id.loc.gov/authorities/subjects/sh2008104923\",\n",
        "  \"William Morris and the aesthetic constitution of politics / Bradley J. Macdonald. Second edition. Lanham : Lexington Books, [2024] Morris, William, 1834-1896 Political and social views. Aesthetics Political aspects Great Britain History 19th century. Politics and literature Great Britain History 19th century. Art Political aspects Great Britain History 19th century. Great Britain Politics and government 1837-1901. Aesthetics, British 19th century. Politique et littérature (CaQQLa)201-0029043 Grande-Bretagne (CaQQLa)201-0441031 Histoire (CaQQLa)201-0378908 19e siècle. (CaQQLa)201-0378908 Grande-Bretagne Politique et gouvernement 1837-1901. (CaQQLa)201-0076985 Esthétique britannique 19e siècle. (CaQQLa)201-0132192\",\n",
        "  \"Policy Document of the BC Conservative Party British Columbia's Conservatives. At head of title: Langley, B.C. : BC Conservative Party, 2012 Campaign literature British Columbia. Agriculture Iptcnc Alternative energy Iptcnc Bc hydro Iptcnc British columbia Iptcnc Government Iptcnc Health care Iptcnc Politics Iptcnc Supply management (canada) Iptcnc Tax Iptcnc Economy Iptcnc British Columbia Politics and government 2001-. British Columbia Conservative Party Platforms.\",\n",
        "  \"Green book 2013 Victoria, B.C. : Green Party of BC, 2013 Campaign literature British Columbia. Agriculture Iptcnc Air pollution Iptcnc Disability Iptcnc Economy Iptcnc Education Iptcnc Employment Iptcnc Fishing Iptcnc Greenhouse gas Iptcnc Health Iptcnc Natural gas Iptcnc British Columbia Politics and government 2001-. Green Party of British Columbia Platforms. British Columbia. Legislative Assembly Elections, 2013.\",\n",
        "  \"Strong Economy, Secure Tomorrow: 2013 Platform Victoria, B.C. : BC Liberal Party, 2013 Campaign literature British Columbia. British Columbia Politics and government. British Columbia Politics and government 2001- British Columbia Liberal Party Platforms. British Columbia. Legislative Assembly Elections, 2013.\",\n",
        "  \"Families first agenda for change: Clark campaign policy proposals Clark campaign policy proposals. Vote for change. [Victoria, B.C.] : [BC Liberal Party], [2011] Family policy British Columbia. Campaign literature British Columbia. British columbia Iptcnc Crime Iptcnc Criminal justice Iptcnc Tax Iptcnc Venture capital Iptcnc Sustainable energy Iptcnc Government Iptcnc Smoking cessation Iptcnc Tourism Iptcnc Entrepreneurship Iptcnc British Columbia Politics and government. British Columbia Politics and government 2001- British Columbia Liberal Party Platforms. British Columbia. Premier Elections, 2011.\",\n",
        "  \"Policies of the Christian Heritage Party of British Columbia Christian Heritage Party of British Columbia. Revised September 04, 2014. [Smithers, British Columbia] : Christian Heritage Party of British Columbia, [2014] Ottawa, Ontario : Canadian Electronic Library, 2015. Campaign literature British Columbia. Abortion Iptcnc British columbia Iptcnc Canada Iptcnc Citizenship Iptcnc Crime Iptcnc Election Iptcnc Electricity generation Iptcnc Federal government of the united states Iptcnc Government Iptcnc Health care Iptcnc British Columbia Politics and government 2001- British Columbia Politics and government. Christian Heritage Party of British Columbia Platforms.\",\n",
        "  \"Return of the gods : mythology in romantic philosophy and literature / Owen Ware. First edition. New York, NY : Oxford University Press, [2024] ©2024 Mythology in literature. German literature 19th century History and criticism. English literature 19th century History and criticism. Romanticism Germany. Romanticism Great Britain. Philosophy, German 19th century. Philosophy, British 19th century.\",\n",
        "  \"Harry Potter : a history of magic. History of magic London : Bloomsbury Publishing Plc, 2017. ©2017 Rowling, J. K. Harry Potter series History Exhibitions Juvenile literature. Rowling, J. K. Harry Potter series Miscellanea Exhibitions Juvenile literature. British Library Exhibitions Juvenile literature. Witchcraft History Exhibitions. Magic in literature Exhibitions. Wizards in literature Exhibitions. Rowling, J. K. Harry Potter series History Exhibitions. British Library Exhibitions. Harry Potter films. Magic History. Sorcellerie Histoire Expositions. Magie dans la littérature Expositions. Rowling, J. K. History. cct Rowling, J. K. cct British Library. cct Harry Potter films Juvenile literature. cct Magic History Juvenile literature. cct Harry Potter films. cct Magic History. cct Magic. cct Exhibition catalogs. cct History. cct Juvenile works. cct Literature. eflch British Library fast Harry Potter series (Rowling, J. K.) fast Wizards in literature fast Witchcraft fast Magic in literature fast Harry Potter films fast Magic fast Rowling, J. K. 1965- Harry Potter gnd Harry Potter films. sears Literature. ukslc exhibition catalogs. aat Exhibition catalogs fast History fast Juvenile works fast Exhibition catalogs. lcgft Catalogues d'exposition. rvmgf\",\n",
        "  \"Masculinities and representation : the eroticized male in early modern Italy and England / edited by Konrad Eisenbichler. Toronto ; Buffalo ; London : University of Toronto Press, [2024] Masculinity Italy History Early modern, 1500-1700. Masculinity England History Early modern, 1500-1700. Masculinity in literature. Masculinity in art. Arts, Italian History Early modern, 1500-1700. Arts, British History Early modern, 1500-1700. Masculinity Social aspects History Early modern, 1500-1700. Masculinity Italy History. Masculinity England History. Masculinité Italie Histoire. Masculinité Angleterre Histoire. Masculinité dans la littérature. Masculinité dans l'art.\",\n",
        "  \"British book news. No. 69 : a monthly selection of recent books. London : National Book League, 1946. Blind Books and reading. http://id.loc.gov/authorities/subjects/sh85014856 British literature. http://id.loc.gov/authorities/subjects/sh85016973\",\n",
        "  \"Review 43, a quarterly review of literature, art and science / edited by Walter Berger and Pavel Tigrid. London : George Allen and Unwin, Limited, 1943. Art, British 20th century. http://id.loc.gov/authorities/subjects/sh2003010015 Art, Czech 20th century. http://id.loc.gov/authorities/subjects/sh2006002697 Czech literature 20th century. http://id.loc.gov/authorities/subjects/sh85035277 Slovak literature 20th century. http://id.loc.gov/authorities/subjects/sh85123481\",\n",
        "  \"Art and the industrial revolution / by Francis D. Klingender. London : Noel Carrington, 1947. Art, British. http://id.loc.gov/authorities/subjects/sh85007581 English literature 18th century History and criticism. http://id.loc.gov/authorities/subjects/sh2008102755 English literature 19th century History and criticism. http://id.loc.gov/authorities/subjects/sh2008102754 Industries in art. http://id.loc.gov/authorities/subjects/sh85065979 Industries in literature. http://id.loc.gov/authorities/subjects/sh85065980\",\n",
        "  \"A short essay on the subject of Negro slavery, with a particular reference to the island of Barbadoes. By the Reverend H.E. Holder, of that place [electronic resource]. London : Printed by Couchman and Fry, for Charles Dilly, in the Poultry, MDCCLXXXVIII. [1788] Slavery West Indies, British Controversial literature.\",\n",
        "  \"The European magazine, and London review [electronic resource] : containing the literature, history, politics, arts, manners and amusements of the age. By the Philological Society of London. European magazine, and London review London [England] : printed for John Fielding No. 23, Pater Noster Row; John Debrett, opposite Burlington House, Piccadilly; and John Sewell, No. 32, Cornhill, [1782]-1826. British literature History 18th century Periodicals Early works to 1800. Great Britain Civilization 18th century Periodicals Early works to 1800. Great Britain Social life and customs 18th century Periodicals Early works to 1800. Periodicals England 18th century. rbgenr Essays Great Britain 18th century. rbgenr\",\n",
        "  \"Explorers, dreamers and thieves : writers in the archives in the British Museum / Selva Almada, Rita Indiana, Josefa Sánchez Contreras, Philippe Sands, Juan Gabriel Vásquez, Gabriela Wiener ; translated by Anne McLean, Robin Myers [and three others]. Edinburgh : Charco Press, 2024. British Museum Essays. Museum objects Poetry. Latin American literature. Objets exposés Poésie. Littérature latino-américaine.\",\n",
        "  \"Sylvia Beach and the lost generation Sylvia Beach : Eine Biographie im literarischen Paris 1920-1940 / Noel R. Fitch ; Aus dem Amerikanischen von Angelika Schleindl Insel. Nordlingen : Wagner, 1988. Beach, Sylvia. Booksellers and bookselling France Paris Biography. Paris (France) Intellectual life 20th century. Americans France Paris History 20th century. British France Paris History 20th century. Literature publishing France Paris History 20th century. Literary landmarks France Paris History 20th century. Joyce, James, 1882-1941. Beach Sylvia Biographie 1920-1940. Paris (France) Vie intellectuelle 20e siècle. Britanniques France Paris Histoire 20e siècle. Littérature Édition France Paris Histoire 20e siècle. Écrivains Résidences et lieux familiers France Paris Histoire 20e siècle. Beach, Sylvia fast (OCoLC)fst00044498 https://id.oclc.org/worldcat/entity/E39PBJgH7gjGjx7dpV8trt48YP Joyce, James, 1882-1941 fast (OCoLC)fst00035968 https://id.oclc.org/worldcat/entity/E39PBJcGrYrqpkRpQrMfc4bjmd Americans. fast (OCoLC)fst00807488 Booksellers and bookselling. fast (OCoLC)fst00836492 British. fast (OCoLC)fst00839044 Intellectual life. fast (OCoLC)fst00975769 Literary landmarks. fast (OCoLC)fst00999933 Literature publishing. fast (OCoLC)fst01000111 France Paris fast (OCoLC)fst01205283 https://id.oclc.org/worldcat/entity/E39QbtfRkKTXcHQJ477vgbjTxc Beach, Sylvia. swd 1900-1999 fast Biographies. fast (OCoLC)fst01919896 History. fast (OCoLC)fst01411628\",\n",
        "  \"Pity the negro, or, An address to children on the subject of slavery. Address to children on the subject of slavery 7th ed. London : F. Westley and A.H. Davis, 1827. Slavery West Indies, British Juvenile literature. Slave trade Great Britain Juvenile literature. Slaves Emancipation Juvenile literature.\",\n",
        "  \"The history of the black slaves : being an affectionate address to the children of Great Britain, of all ranks and denominations / by an old friend to the young. Leicester : Printed and sold by A. Cockshaw ..., [1830?] Slavery Moral and ethical aspects Juvenile literature. Slavery West Indies, British Juvenile literature. Slave trade Juvenile literature. Antislavery movements Great Britain Juvenile literature.\",\n",
        "  \"The inhuman empire : wildlife, colonialism, culture / Sadhana Naithani. New York : Routledge, Taylor & Francis Group, 2024. ©2024 Animals in literature. Hunting in literature. India In literature. English literature 19th century History and criticism. English literature 20th century History and criticism. British India History. India History British occupation, 1765-1947. Great Britain Colonies Asia. Animaux dans la littérature. (CaQQLa)201-0001369 Littérature anglaise (CaQQLa)201-0049945 19e siècle (CaQQLa)201-0049945 Histoire et critique. (CaQQLa)201-0377571 Littérature anglaise (CaQQLa)201-0021567 20e siècle (CaQQLa)201-0021567 Histoire et critique. (CaQQLa)201-0377571 Britanniques (CaQQLa)201-0003276 Inde (CaQQLa)201-0482676 Histoire. (CaQQLa)201-0378888 Inde Histoire 1765-1947 (Occupation britannique) (CaQQLa)201-0013890 Grande-Bretagne Colonies Asie. (CaQQLa)201-0163246\",\n",
        "  \"Black travel writing : contemporary narratives of travel to Africa by African American and Black British authors / Isabel Kalous. 1st ed. Bielefeld : transcript Verlag, [2021] ©2021 American literature History and criticism. British literature History and criticism.\",\n",
        "  \"Consuming anxieties : alcohol, tobacco, and trade in British satire, 1660-1751 / Dayne C. Riley. Alcohol, tobacco, and trade in British satire, 1660-1751 Lewisburg, Pennsylvania : Bucknell University Press, [2024] English literature 17th century History and criticism. English literature 18th century History and criticism. Drinking of alcoholic beverages in literature. Tobacco in literature. Satire, English History and criticism. Literature and society Great Britain History 17th century. Literature and society Great Britain History 18th century. National characteristics, British, in literature. Literary criticism. lcgft\",\n",
        "  \"Empire of culture : neo-Victorian narratives in the global creative economy / Waiyee Loh. Albany : State University of New York Press, 2024. English literature 19th century History and criticism. Great Britain Colonies History. Civilization British influences. British Foreign countries. Littérature anglaise (CaQQLa)201-0049945 19e siècle (CaQQLa)201-0049945 Histoire et critique. (CaQQLa)201-0377571 Grande-Bretagne Colonies Histoire. (CaQQLa)201-0163217 Britanniques Pays étrangers. (CaQQLa)201-0106047\",\n",
        "  \"Critical perspectives on resistance in 21-st century British literature / edited by Nilay Erdem Ayyildiz. Newcastle upon Tyne : Cambridge Scholars Publishing, 2024. ©2024 British literature History and criticism 21st century. Resistance (Philosophy) in literature.\",\n",
        "  \"Out of hiding : Holocaust literature of British Columbia : an historical survey in appreciation of Robert Krell / Alan Twigg ; afterword by Yosef Wosk. Vancouver, B.C., Canada : Ronsdale Press, [2022] ©2022 Canadian literature British Columbia History and criticism. Holocaust survivors' writings. Holocaust survivors' writings History and criticism. Holocaust, Jewish (1939-1945), in literature. Holocaust survivors British Columbia. Jews British Columbia. Jews, Canadian British Columbia. Canadian literature. fast (OCoLC)fst00845111 Holocaust, Jewish (1939-1945) in literature. fast (OCoLC)fst00958923 Holocaust survivors. fast (OCoLC)fst00958838 Holocaust survivors' writings. fast (OCoLC)fst00958863 Jews. fast (OCoLC)fst00983135 Jews, Canadian. fast (OCoLC)fst00983427 British Columbia. fast (OCoLC)fst01205265 Canadian literature British Columbia History and criticism nli Holocaust survivors' writings nli Holocaust survivors' writings History and criticism nli Holocaust, Jewish (1939-1945), in literature nli Holocaust survivors British Columbia nli Jews British Columbia nli Literary criticism fast (OCoLC)fst01986215 Criticism, interpretation, etc. fast (OCoLC)fst01411635 Literary criticism. lcgft\",\n",
        "  \"Finnegans Wakes : Tales of Translation / Patrick O'Neill. First edition. Toronto, Ontario : University of Toronto Press, [2022] ©2022 British literature. Joyce, James, 1882-1941 Translations History and criticism. Joyce, James, 1882-1941. Finnegans wake.\",\n",
        "  \"The Savage and Modern Self : North American Indians in Eighteenth-Century British Literature and Culture / Robbie Richardson. Toronto : University of Toronto Press, [2019] ©2018 Indians in literature. English literature 18th century History and criticism. National characteristics, British, in literature.\"\n",
        "]\n",
        "\n",
        "def get_sentence_embedding(text):\n",
        "    # Tokenize and prepare input tensors\n",
        "    inputs = tokenizer(text, return_tensors='pt')\n",
        "    # Disable gradient calculation\n",
        "    with torch.no_grad():\n",
        "        # Get model outputs\n",
        "        outputs = model(**inputs)\n",
        "    # Extract the last hidden states (embeddings)\n",
        "    last_hidden_states = outputs.last_hidden_state\n",
        "    # Average token embeddings\n",
        "    sentence_embedding = torch.mean(last_hidden_states, dim=1).numpy()\n",
        "    return sentence_embedding\n",
        "\n",
        "# Generate embeddings for texts\n",
        "embeddings = [get_sentence_embedding(text) for text in texts]\n",
        "\n",
        "# Query text\n",
        "query_text = \"british literature\"\n",
        "query_embedding = get_sentence_embedding(query_text)\n",
        "\n",
        "# Compute cosine similarities\n",
        "# Lokk for another similarity index that I could use.\n",
        "similarities = cosine_similarity(query_embedding, np.vstack(embeddings))\n",
        "\n",
        "# Print query text\n",
        "print (f\"Query text: {query_text}\")\n",
        "\n",
        "# Print similarities\n",
        "for i, text in enumerate(texts):\n",
        "    print(f\"Similarity with '{text}': {similarities[0][i]}\")\n"
      ],
      "metadata": {
        "colab": {
          "base_uri": "https://localhost:8080/"
        },
        "id": "DkQUi9BF86dY",
        "outputId": "daa23719-a80a-4b2e-f49d-2c23f235ced9"
      },
      "execution_count": 12,
      "outputs": [
        {
          "output_type": "stream",
          "name": "stdout",
          "text": [
            "2.7.0+cu126\n",
            "<function is_available at 0x786de6141b20>\n",
            "Query text: british literature\n",
            "Similarity with 'British writing from empire to Brexit : writing, identity and nation / Robert Spencer, Howard J. Booth, and Anastasia Valassopoulos. Abingdon, Oxon ; New York, NY : Routledge, Taylor & Francis Group, 2025. ©2025 National characteristics, British, in literature. European Union Great Britain. Great Britain In literature. Literature and society England History 19th century. Literature and society England History 20th century. English literature 19th century History and criticism. English literature 20th century History and criticism. Britanniques dans la littérature. (CaQQLa)000278323 Littérature et société (CaQQLa)201-0044931 Angleterre (CaQQLa)201-0476579 Histoire (CaQQLa)201-0378908 19e siècle. (CaQQLa)201-0378908 Littérature et société (CaQQLa)201-0044931 Angleterre (CaQQLa)201-0476579 Histoire (CaQQLa)201-0378892 20e siècle. (CaQQLa)201-0378892 Littérature anglaise (CaQQLa)201-0049945 19e siècle (CaQQLa)201-0049945 Histoire et critique. (CaQQLa)201-0377571 Littérature anglaise (CaQQLa)201-0021567 20e siècle (CaQQLa)201-0021567 Histoire et critique. (CaQQLa)201-0377571': 0.3166755437850952\n",
            "Similarity with 'Contesting cosmopolitan moments in the long eighteenth century / Enit Karafili Steiner. Edinburgh : Edinburgh University Press, [2025] British literature 18th century History and criticism. Cosmopolitanism in literature.': 0.5185366868972778\n",
            "Similarity with 'Radical writers and the media revolution in the late Enlightenment / Christoph Streb. Liverpool : Liverpool University Press, 2024. ©2024 British literature 18th century History. French literature 18th century History. Radicalism Great Britain 18th century History. Radicalism France 18th century History. Mass media Great Britain 18th century History. Mass media France 18th century History. Littérature britannique 18e siècle Histoire. Littérature française 18e siècle Histoire. Radicalisme Grande-Bretagne 18e siècle Histoire. Radicalisme France 18e siècle Histoire. Médias Grande-Bretagne 18e siècle Histoire. Médias France 18e siècle Histoire.': 0.3583778440952301\n",
            "Similarity with 'A brief record of the Oliver government. [Vancouver] : Sun Job Presses, [1920] Campaign literature Canada. Campagnes électorales Canada Documentation. British Columbia Politics and government 1916-1928. Colombie-Britannique Politique et gouvernement 1916-1928. British Columbia Liberal Association. British Columbia Liberal Association.': 0.36840659379959106\n",
            "Similarity with 'Misrule of the Oliver-Farris government. [Vancouver?] : Acme Press, [1920?] Campaign literature Canada. Campagne électorales Canada Documentation. British Columbia Politics and government 1916-1928. Colombie-Britannique Politique et gouvernement 1916-1928. Conservative Party of British Columbia. Conservative Party of British Columbia.': 0.3562740683555603\n",
            "Similarity with 'To the electors of Yale : yours respectfully John P. McConnell. [British Columbia? : publisher not identified, 1912?] Campaign literature Canada. Campagnes électorales Documentation Canada. British Columbia Politics and government 1903-1916. Colombie-Britannique Politique et gouvernement 1903-1916. British Columbia Liberal Association. Liberal Party in British Columbia Platforms. British Columbia Liberal Association. Parti libéral de la Colombie-Britannique Programmes.': 0.3511473536491394\n",
            "Similarity with 'Election address : Lieut.-Col. the Hon. E.G. Prior, Minister of Mines, the government candidate. [Victoria, B.C.? : publisher not identified, 1902?] Campaign literature British Columbia. Campagnes électorales Documentation Colombie-Britannique. British Columbia Politics and government 1871-1903. Colombie-Britannique Politique et gouvernement 1871-1903.': 0.36549821496009827\n",
            "Similarity with 'The Business record of a business government. [Victoria, B.C.] : Colonist Presses, [1909?] Campaign literature, Canadian, 1916 Conservative Party of British Columbia. Campagnes électorales Canada Documentation, 1916 Conservative Party of British Columbia. British Columbia Politics and government 1903-1916. Colombie-Britannique Politique et gouvernement 1903-1916.': 0.3874302804470062\n",
            "Similarity with 'A record of things done in behalf of the farmers : an account of what the Conservative government has done and is doing to promote the industry of agriculture in British Columbia and make easier the task of the tiller of the soil. [British Columbia? : publisher not identified, 1916?] Agricultural laws and legislation British Columbia. Agriculture and state British Columbia. Campaign literature, Canadian, 1916 Conservative Party of British Columbia. Campagnes électorales Canada Documentation, 1916 Conservative Party of British Columbia. Droit rural Colombie-Britannique. Politique agricole Colombie-Britannique.': 0.3617309331893921\n",
            "Similarity with 'The platform of the Liberal Party of British Columbia. [Vancouver : Saturday Sunset Presses, 1916?] Campaign literature, Canadian, 1916 Liberal Party in British Columbia. Campagnes électorales Canada Documentation, 1916 Parti libéral de la Colombie-Britannique. British Columbia Politics and government 1903-1916. Colombie-Britannique Politique et gouvernement 1903-1916.': 0.3421802520751953\n",
            "Similarity with 'Parry's third voyage for the discovery of a north-west passage in the years 1824 and 1825 : with an account of the Esquimaux / edited from Parry's first edition of his voyage with a biographical introduction. London; Glasgow : Blackie, 1894. Northwest Passage Juvenile literature. Inuit Juvenile literature. Inuit Ouvrages pour la jeunesse. Nord-Ouest, Passage du Ouvrages pour la jeunesse. Arctic regions Discovery and exploration British Juvenile literature. Régions arctiques Découverte et exploration britanniques Ouvrages pour la jeunesse. Parry, William Edward, Sir, 1790-1855 Juvenile literature. Parry, William Edward, Sir, 1790-1855 Ouvrages pour la jeunesse.': 0.36744803190231323\n",
            "Similarity with 'The Apple lands of Aldergrove. New Westminster, B.C. : F.J. Hart and Company, [1910? (Vancouver] : Evans and Hastings) Agriculture British Columbia Aldergrove. Agriculture Colombie-Britannique Aldergrove. Canadian immigration literature (English) 1897-1918. Aldergrove (C.-B.) Descriptions et voyages. Aldergrove (B.C.) Description and travel. Canada Émigration et immigration Guides, manuels, etc. anglais 1897- 1918.': 0.4398413598537445\n",
            "Similarity with 'Women of British Columbia : read the record of the Oliver government on matters in which you are vitally interested. Vancouver : Sun Job Presses, [1920?] Women Legal status, laws, etc. British Columbia. Campagnes électorales Canada Documentation, 1920 British Columbia Liberal Association. Femmes Droit Colombie-Britannique. Campaign literature, Canadian, 1920 British Columbia Liberal Association.': 0.3967142701148987\n",
            "Similarity with 'Vancouver Island, British Columbia, Canada : the farmer' s home ; berry growing, vegetable raising, fruit growing, poultry raising, dairying, mixed farming, horses, cattle, sheep and hogs, good prices and steady markets ; the best all-year round mild climate in Canada, no blizzards, no six months winter sieges, no sunstrokes, no furnace heat summers ; there are many places for settlers but only one place ; and that is - Vancouver Island, B.C., Canada. [British Columbia? : publisher not identified, 1913?] Agriculture Colombie-Britannique Vancouver, ÃƒÂ®le de. Agriculture British Columbia Vancouver Island. Canadian immigration literature (English) 1897-1918. Canada Émigration et immigration Guides, manuels, etc. anglais 1897- 1918.6 Vancouver, ÃƒÂ®le de (C.-B.) Descriptions et voyages.0 Vancouver Island (B.C.) Description and travel.': 0.361286997795105\n",
            "Similarity with 'Discovering Britain and Ireland in the Romantic period : grand tours / edited by James Watt, Alison O'Byrne. Cambridge : Cambridge University Press, . Travelers' writings, British 19th century History and criticism. Travelers' writings, English Ireland History and criticism. Great Britain Description and travel. http://id.loc.gov/authorities/subjects/sh85056663 Ireland Description and travel. http://id.loc.gov/authorities/subjects/sh85067977 Romanticism Influence. Great Britain In literature. http://id.loc.gov/authorities/subjects/sh2007100286 Ireland In literature. http://id.loc.gov/authorities/subjects/sh2008104923': 0.3842517137527466\n",
            "Similarity with 'William Morris and the aesthetic constitution of politics / Bradley J. Macdonald. Second edition. Lanham : Lexington Books, [2024] Morris, William, 1834-1896 Political and social views. Aesthetics Political aspects Great Britain History 19th century. Politics and literature Great Britain History 19th century. Art Political aspects Great Britain History 19th century. Great Britain Politics and government 1837-1901. Aesthetics, British 19th century. Politique et littérature (CaQQLa)201-0029043 Grande-Bretagne (CaQQLa)201-0441031 Histoire (CaQQLa)201-0378908 19e siècle. (CaQQLa)201-0378908 Grande-Bretagne Politique et gouvernement 1837-1901. (CaQQLa)201-0076985 Esthétique britannique 19e siècle. (CaQQLa)201-0132192': 0.36444130539894104\n",
            "Similarity with 'Policy Document of the BC Conservative Party British Columbia's Conservatives. At head of title: Langley, B.C. : BC Conservative Party, 2012 Campaign literature British Columbia. Agriculture Iptcnc Alternative energy Iptcnc Bc hydro Iptcnc British columbia Iptcnc Government Iptcnc Health care Iptcnc Politics Iptcnc Supply management (canada) Iptcnc Tax Iptcnc Economy Iptcnc British Columbia Politics and government 2001-. British Columbia Conservative Party Platforms.': 0.3500707149505615\n",
            "Similarity with 'Green book 2013 Victoria, B.C. : Green Party of BC, 2013 Campaign literature British Columbia. Agriculture Iptcnc Air pollution Iptcnc Disability Iptcnc Economy Iptcnc Education Iptcnc Employment Iptcnc Fishing Iptcnc Greenhouse gas Iptcnc Health Iptcnc Natural gas Iptcnc British Columbia Politics and government 2001-. Green Party of British Columbia Platforms. British Columbia. Legislative Assembly Elections, 2013.': 0.3517773449420929\n",
            "Similarity with 'Strong Economy, Secure Tomorrow: 2013 Platform Victoria, B.C. : BC Liberal Party, 2013 Campaign literature British Columbia. British Columbia Politics and government. British Columbia Politics and government 2001- British Columbia Liberal Party Platforms. British Columbia. Legislative Assembly Elections, 2013.': 0.3965991735458374\n",
            "Similarity with 'Families first agenda for change: Clark campaign policy proposals Clark campaign policy proposals. Vote for change. [Victoria, B.C.] : [BC Liberal Party], [2011] Family policy British Columbia. Campaign literature British Columbia. British columbia Iptcnc Crime Iptcnc Criminal justice Iptcnc Tax Iptcnc Venture capital Iptcnc Sustainable energy Iptcnc Government Iptcnc Smoking cessation Iptcnc Tourism Iptcnc Entrepreneurship Iptcnc British Columbia Politics and government. British Columbia Politics and government 2001- British Columbia Liberal Party Platforms. British Columbia. Premier Elections, 2011.': 0.34707707166671753\n",
            "Similarity with 'Policies of the Christian Heritage Party of British Columbia Christian Heritage Party of British Columbia. Revised September 04, 2014. [Smithers, British Columbia] : Christian Heritage Party of British Columbia, [2014] Ottawa, Ontario : Canadian Electronic Library, 2015. Campaign literature British Columbia. Abortion Iptcnc British columbia Iptcnc Canada Iptcnc Citizenship Iptcnc Crime Iptcnc Election Iptcnc Electricity generation Iptcnc Federal government of the united states Iptcnc Government Iptcnc Health care Iptcnc British Columbia Politics and government 2001- British Columbia Politics and government. Christian Heritage Party of British Columbia Platforms.': 0.36101943254470825\n",
            "Similarity with 'Return of the gods : mythology in romantic philosophy and literature / Owen Ware. First edition. New York, NY : Oxford University Press, [2024] ©2024 Mythology in literature. German literature 19th century History and criticism. English literature 19th century History and criticism. Romanticism Germany. Romanticism Great Britain. Philosophy, German 19th century. Philosophy, British 19th century.': 0.5015743374824524\n",
            "Similarity with 'Harry Potter : a history of magic. History of magic London : Bloomsbury Publishing Plc, 2017. ©2017 Rowling, J. K. Harry Potter series History Exhibitions Juvenile literature. Rowling, J. K. Harry Potter series Miscellanea Exhibitions Juvenile literature. British Library Exhibitions Juvenile literature. Witchcraft History Exhibitions. Magic in literature Exhibitions. Wizards in literature Exhibitions. Rowling, J. K. Harry Potter series History Exhibitions. British Library Exhibitions. Harry Potter films. Magic History. Sorcellerie Histoire Expositions. Magie dans la littérature Expositions. Rowling, J. K. History. cct Rowling, J. K. cct British Library. cct Harry Potter films Juvenile literature. cct Magic History Juvenile literature. cct Harry Potter films. cct Magic History. cct Magic. cct Exhibition catalogs. cct History. cct Juvenile works. cct Literature. eflch British Library fast Harry Potter series (Rowling, J. K.) fast Wizards in literature fast Witchcraft fast Magic in literature fast Harry Potter films fast Magic fast Rowling, J. K. 1965- Harry Potter gnd Harry Potter films. sears Literature. ukslc exhibition catalogs. aat Exhibition catalogs fast History fast Juvenile works fast Exhibition catalogs. lcgft Catalogues d'exposition. rvmgf': 0.37938791513442993\n",
            "Similarity with 'Masculinities and representation : the eroticized male in early modern Italy and England / edited by Konrad Eisenbichler. Toronto ; Buffalo ; London : University of Toronto Press, [2024] Masculinity Italy History Early modern, 1500-1700. Masculinity England History Early modern, 1500-1700. Masculinity in literature. Masculinity in art. Arts, Italian History Early modern, 1500-1700. Arts, British History Early modern, 1500-1700. Masculinity Social aspects History Early modern, 1500-1700. Masculinity Italy History. Masculinity England History. Masculinité Italie Histoire. Masculinité Angleterre Histoire. Masculinité dans la littérature. Masculinité dans l'art.': 0.37047526240348816\n",
            "Similarity with 'British book news. No. 69 : a monthly selection of recent books. London : National Book League, 1946. Blind Books and reading. http://id.loc.gov/authorities/subjects/sh85014856 British literature. http://id.loc.gov/authorities/subjects/sh85016973': 0.42757800221443176\n",
            "Similarity with 'Review 43, a quarterly review of literature, art and science / edited by Walter Berger and Pavel Tigrid. London : George Allen and Unwin, Limited, 1943. Art, British 20th century. http://id.loc.gov/authorities/subjects/sh2003010015 Art, Czech 20th century. http://id.loc.gov/authorities/subjects/sh2006002697 Czech literature 20th century. http://id.loc.gov/authorities/subjects/sh85035277 Slovak literature 20th century. http://id.loc.gov/authorities/subjects/sh85123481': 0.34467813372612\n",
            "Similarity with 'Art and the industrial revolution / by Francis D. Klingender. London : Noel Carrington, 1947. Art, British. http://id.loc.gov/authorities/subjects/sh85007581 English literature 18th century History and criticism. http://id.loc.gov/authorities/subjects/sh2008102755 English literature 19th century History and criticism. http://id.loc.gov/authorities/subjects/sh2008102754 Industries in art. http://id.loc.gov/authorities/subjects/sh85065979 Industries in literature. http://id.loc.gov/authorities/subjects/sh85065980': 0.3341105878353119\n",
            "Similarity with 'A short essay on the subject of Negro slavery, with a particular reference to the island of Barbadoes. By the Reverend H.E. Holder, of that place [electronic resource]. London : Printed by Couchman and Fry, for Charles Dilly, in the Poultry, MDCCLXXXVIII. [1788] Slavery West Indies, British Controversial literature.': 0.4444701671600342\n",
            "Similarity with 'The European magazine, and London review [electronic resource] : containing the literature, history, politics, arts, manners and amusements of the age. By the Philological Society of London. European magazine, and London review London [England] : printed for John Fielding No. 23, Pater Noster Row; John Debrett, opposite Burlington House, Piccadilly; and John Sewell, No. 32, Cornhill, [1782]-1826. British literature History 18th century Periodicals Early works to 1800. Great Britain Civilization 18th century Periodicals Early works to 1800. Great Britain Social life and customs 18th century Periodicals Early works to 1800. Periodicals England 18th century. rbgenr Essays Great Britain 18th century. rbgenr': 0.4395918846130371\n",
            "Similarity with 'Explorers, dreamers and thieves : writers in the archives in the British Museum / Selva Almada, Rita Indiana, Josefa Sánchez Contreras, Philippe Sands, Juan Gabriel Vásquez, Gabriela Wiener ; translated by Anne McLean, Robin Myers [and three others]. Edinburgh : Charco Press, 2024. British Museum Essays. Museum objects Poetry. Latin American literature. Objets exposés Poésie. Littérature latino-américaine.': 0.43433812260627747\n",
            "Similarity with 'Sylvia Beach and the lost generation Sylvia Beach : Eine Biographie im literarischen Paris 1920-1940 / Noel R. Fitch ; Aus dem Amerikanischen von Angelika Schleindl Insel. Nordlingen : Wagner, 1988. Beach, Sylvia. Booksellers and bookselling France Paris Biography. Paris (France) Intellectual life 20th century. Americans France Paris History 20th century. British France Paris History 20th century. Literature publishing France Paris History 20th century. Literary landmarks France Paris History 20th century. Joyce, James, 1882-1941. Beach Sylvia Biographie 1920-1940. Paris (France) Vie intellectuelle 20e siècle. Britanniques France Paris Histoire 20e siècle. Littérature Édition France Paris Histoire 20e siècle. Écrivains Résidences et lieux familiers France Paris Histoire 20e siècle. Beach, Sylvia fast (OCoLC)fst00044498 https://id.oclc.org/worldcat/entity/E39PBJgH7gjGjx7dpV8trt48YP Joyce, James, 1882-1941 fast (OCoLC)fst00035968 https://id.oclc.org/worldcat/entity/E39PBJcGrYrqpkRpQrMfc4bjmd Americans. fast (OCoLC)fst00807488 Booksellers and bookselling. fast (OCoLC)fst00836492 British. fast (OCoLC)fst00839044 Intellectual life. fast (OCoLC)fst00975769 Literary landmarks. fast (OCoLC)fst00999933 Literature publishing. fast (OCoLC)fst01000111 France Paris fast (OCoLC)fst01205283 https://id.oclc.org/worldcat/entity/E39QbtfRkKTXcHQJ477vgbjTxc Beach, Sylvia. swd 1900-1999 fast Biographies. fast (OCoLC)fst01919896 History. fast (OCoLC)fst01411628': 0.2962085008621216\n",
            "Similarity with 'Pity the negro, or, An address to children on the subject of slavery. Address to children on the subject of slavery 7th ed. London : F. Westley and A.H. Davis, 1827. Slavery West Indies, British Juvenile literature. Slave trade Great Britain Juvenile literature. Slaves Emancipation Juvenile literature.': 0.5213049650192261\n",
            "Similarity with 'The history of the black slaves : being an affectionate address to the children of Great Britain, of all ranks and denominations / by an old friend to the young. Leicester : Printed and sold by A. Cockshaw ..., [1830?] Slavery Moral and ethical aspects Juvenile literature. Slavery West Indies, British Juvenile literature. Slave trade Juvenile literature. Antislavery movements Great Britain Juvenile literature.': 0.4265825152397156\n",
            "Similarity with 'The inhuman empire : wildlife, colonialism, culture / Sadhana Naithani. New York : Routledge, Taylor & Francis Group, 2024. ©2024 Animals in literature. Hunting in literature. India In literature. English literature 19th century History and criticism. English literature 20th century History and criticism. British India History. India History British occupation, 1765-1947. Great Britain Colonies Asia. Animaux dans la littérature. (CaQQLa)201-0001369 Littérature anglaise (CaQQLa)201-0049945 19e siècle (CaQQLa)201-0049945 Histoire et critique. (CaQQLa)201-0377571 Littérature anglaise (CaQQLa)201-0021567 20e siècle (CaQQLa)201-0021567 Histoire et critique. (CaQQLa)201-0377571 Britanniques (CaQQLa)201-0003276 Inde (CaQQLa)201-0482676 Histoire. (CaQQLa)201-0378888 Inde Histoire 1765-1947 (Occupation britannique) (CaQQLa)201-0013890 Grande-Bretagne Colonies Asie. (CaQQLa)201-0163246': 0.3221704363822937\n",
            "Similarity with 'Black travel writing : contemporary narratives of travel to Africa by African American and Black British authors / Isabel Kalous. 1st ed. Bielefeld : transcript Verlag, [2021] ©2021 American literature History and criticism. British literature History and criticism.': 0.5169331431388855\n",
            "Similarity with 'Consuming anxieties : alcohol, tobacco, and trade in British satire, 1660-1751 / Dayne C. Riley. Alcohol, tobacco, and trade in British satire, 1660-1751 Lewisburg, Pennsylvania : Bucknell University Press, [2024] English literature 17th century History and criticism. English literature 18th century History and criticism. Drinking of alcoholic beverages in literature. Tobacco in literature. Satire, English History and criticism. Literature and society Great Britain History 17th century. Literature and society Great Britain History 18th century. National characteristics, British, in literature. Literary criticism. lcgft': 0.4838767349720001\n",
            "Similarity with 'Empire of culture : neo-Victorian narratives in the global creative economy / Waiyee Loh. Albany : State University of New York Press, 2024. English literature 19th century History and criticism. Great Britain Colonies History. Civilization British influences. British Foreign countries. Littérature anglaise (CaQQLa)201-0049945 19e siècle (CaQQLa)201-0049945 Histoire et critique. (CaQQLa)201-0377571 Grande-Bretagne Colonies Histoire. (CaQQLa)201-0163217 Britanniques Pays étrangers. (CaQQLa)201-0106047': 0.39388352632522583\n",
            "Similarity with 'Critical perspectives on resistance in 21-st century British literature / edited by Nilay Erdem Ayyildiz. Newcastle upon Tyne : Cambridge Scholars Publishing, 2024. ©2024 British literature History and criticism 21st century. Resistance (Philosophy) in literature.': 0.533369243144989\n",
            "Similarity with 'Out of hiding : Holocaust literature of British Columbia : an historical survey in appreciation of Robert Krell / Alan Twigg ; afterword by Yosef Wosk. Vancouver, B.C., Canada : Ronsdale Press, [2022] ©2022 Canadian literature British Columbia History and criticism. Holocaust survivors' writings. Holocaust survivors' writings History and criticism. Holocaust, Jewish (1939-1945), in literature. Holocaust survivors British Columbia. Jews British Columbia. Jews, Canadian British Columbia. Canadian literature. fast (OCoLC)fst00845111 Holocaust, Jewish (1939-1945) in literature. fast (OCoLC)fst00958923 Holocaust survivors. fast (OCoLC)fst00958838 Holocaust survivors' writings. fast (OCoLC)fst00958863 Jews. fast (OCoLC)fst00983135 Jews, Canadian. fast (OCoLC)fst00983427 British Columbia. fast (OCoLC)fst01205265 Canadian literature British Columbia History and criticism nli Holocaust survivors' writings nli Holocaust survivors' writings History and criticism nli Holocaust, Jewish (1939-1945), in literature nli Holocaust survivors British Columbia nli Jews British Columbia nli Literary criticism fast (OCoLC)fst01986215 Criticism, interpretation, etc. fast (OCoLC)fst01411635 Literary criticism. lcgft': 0.3671334683895111\n",
            "Similarity with 'Finnegans Wakes : Tales of Translation / Patrick O'Neill. First edition. Toronto, Ontario : University of Toronto Press, [2022] ©2022 British literature. Joyce, James, 1882-1941 Translations History and criticism. Joyce, James, 1882-1941. Finnegans wake.': 0.5331970453262329\n",
            "Similarity with 'The Savage and Modern Self : North American Indians in Eighteenth-Century British Literature and Culture / Robbie Richardson. Toronto : University of Toronto Press, [2019] ©2018 Indians in literature. English literature 18th century History and criticism. National characteristics, British, in literature.': 0.5057949423789978\n"
          ]
        }
      ]
    }
  ]
}