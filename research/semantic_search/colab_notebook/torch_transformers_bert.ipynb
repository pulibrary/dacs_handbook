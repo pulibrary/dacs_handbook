{
  "nbformat": 4,
  "nbformat_minor": 0,
  "metadata": {
    "colab": {
      "provenance": []
    },
    "kernelspec": {
      "name": "python3",
      "display_name": "Python 3"
    },
    "language_info": {
      "name": "python"
    }
  },
  "cells": [
    {
      "cell_type": "markdown",
      "source": [],
      "metadata": {
        "id": "qaHOPn1TP66V"
      }
    },
    {
      "cell_type": "code",
      "source": [
        "#!pip uninstall numpy -y"
      ],
      "metadata": {
        "id": "19x7coVxd3ch"
      },
      "execution_count": 1,
      "outputs": []
    },
    {
      "cell_type": "code",
      "source": [
        "#!pip uninstall transformers torch torchvision numpy -y"
      ],
      "metadata": {
        "id": "OhPx83FyP-TJ"
      },
      "execution_count": 2,
      "outputs": []
    },
    {
      "cell_type": "code",
      "source": [
        "# clone https://github.com/christinach/solr9-semantic.git to use sample data and python script\n",
        "!git clone https://github.com/christinach/solr9-semantic.git"
      ],
      "metadata": {
        "colab": {
          "base_uri": "https://localhost:8080/"
        },
        "id": "f59bMDB7VguM",
        "outputId": "c6b41275-93f0-45ae-bcc5-4c24f4209c52"
      },
      "execution_count": 13,
      "outputs": [
        {
          "output_type": "stream",
          "name": "stdout",
          "text": [
            "fatal: destination path 'solr9-semantic' already exists and is not an empty directory.\n"
          ]
        }
      ]
    },
    {
      "cell_type": "code",
      "source": [
        "cd solr9-semantic/"
      ],
      "metadata": {
        "colab": {
          "base_uri": "https://localhost:8080/"
        },
        "id": "NutaSRU6-3uk",
        "outputId": "05406cc2-7f99-48c8-aa5d-be3710bd1a34"
      },
      "execution_count": 17,
      "outputs": [
        {
          "output_type": "stream",
          "name": "stdout",
          "text": [
            "/content/solr9-semantic\n"
          ]
        }
      ]
    },
    {
      "cell_type": "code",
      "source": [
        "# pull recent changes that were added in solr9-semantic repo\n",
        "!git pull origin main"
      ],
      "metadata": {
        "colab": {
          "base_uri": "https://localhost:8080/"
        },
        "id": "pvRUWRqb_U1t",
        "outputId": "487ab828-ec9a-443b-9483-c8df5094063d"
      },
      "execution_count": 60,
      "outputs": [
        {
          "output_type": "stream",
          "name": "stdout",
          "text": [
            "remote: Enumerating objects: 13, done.\u001b[K\n",
            "remote: Counting objects:   7% (1/13)\u001b[K\rremote: Counting objects:  15% (2/13)\u001b[K\rremote: Counting objects:  23% (3/13)\u001b[K\rremote: Counting objects:  30% (4/13)\u001b[K\rremote: Counting objects:  38% (5/13)\u001b[K\rremote: Counting objects:  46% (6/13)\u001b[K\rremote: Counting objects:  53% (7/13)\u001b[K\rremote: Counting objects:  61% (8/13)\u001b[K\rremote: Counting objects:  69% (9/13)\u001b[K\rremote: Counting objects:  76% (10/13)\u001b[K\rremote: Counting objects:  84% (11/13)\u001b[K\rremote: Counting objects:  92% (12/13)\u001b[K\rremote: Counting objects: 100% (13/13)\u001b[K\rremote: Counting objects: 100% (13/13), done.\u001b[K\n",
            "remote: Compressing objects: 100% (1/1)\u001b[K\rremote: Compressing objects: 100% (1/1), done.\u001b[K\n",
            "remote: Total 7 (delta 6), reused 7 (delta 6), pack-reused 0 (from 0)\u001b[K\n",
            "Unpacking objects: 100% (7/7), 1.61 KiB | 8.00 KiB/s, done.\n",
            "From https://github.com/christinach/solr9-semantic\n",
            " * branch            main       -> FETCH_HEAD\n",
            "   8700f8a..4fa390d  main       -> origin/main\n",
            "Updating 8700f8a..4fa390d\n",
            "Fast-forward\n",
            " data/marc_values.json |  6 \u001b[32m+++\u001b[m\u001b[31m---\u001b[m\n",
            " data/marc_values.txt  | 20 \u001b[32m++++++++++\u001b[m\u001b[31m----------\u001b[m\n",
            " sample_of_records.xml |  3 \u001b[32m++\u001b[m\u001b[31m-\u001b[m\n",
            " small_sample.xml      |  3 \u001b[32m++\u001b[m\u001b[31m-\u001b[m\n",
            " 4 files changed, 17 insertions(+), 15 deletions(-)\n"
          ]
        }
      ]
    },
    {
      "cell_type": "code",
      "source": [
        "# run this in the solr9-semantic repo\n",
        "# !python3 solr9-semantic/text_create.py"
      ],
      "metadata": {
        "id": "q5f_-uwZ9P8c"
      },
      "execution_count": null,
      "outputs": []
    },
    {
      "cell_type": "code",
      "execution_count": 3,
      "metadata": {
        "colab": {
          "base_uri": "https://localhost:8080/"
        },
        "id": "osSCOy0M8KlP",
        "outputId": "c41c34af-a3ee-45b5-83ea-23d6c9c82845"
      },
      "outputs": [
        {
          "output_type": "stream",
          "name": "stdout",
          "text": [
            "Requirement already satisfied: transformers in /usr/local/lib/python3.11/dist-packages (4.52.3)\n",
            "Requirement already satisfied: torch in /usr/local/lib/python3.11/dist-packages (2.7.0)\n",
            "Requirement already satisfied: torchvision in /usr/local/lib/python3.11/dist-packages (0.22.0)\n",
            "Requirement already satisfied: numpy in /usr/local/lib/python3.11/dist-packages (2.2.6)\n",
            "Requirement already satisfied: filelock in /usr/local/lib/python3.11/dist-packages (from transformers) (3.18.0)\n",
            "Requirement already satisfied: huggingface-hub<1.0,>=0.30.0 in /usr/local/lib/python3.11/dist-packages (from transformers) (0.31.2)\n",
            "Requirement already satisfied: packaging>=20.0 in /usr/local/lib/python3.11/dist-packages (from transformers) (24.2)\n",
            "Requirement already satisfied: pyyaml>=5.1 in /usr/local/lib/python3.11/dist-packages (from transformers) (6.0.2)\n",
            "Requirement already satisfied: regex!=2019.12.17 in /usr/local/lib/python3.11/dist-packages (from transformers) (2024.11.6)\n",
            "Requirement already satisfied: requests in /usr/local/lib/python3.11/dist-packages (from transformers) (2.32.3)\n",
            "Requirement already satisfied: tokenizers<0.22,>=0.21 in /usr/local/lib/python3.11/dist-packages (from transformers) (0.21.1)\n",
            "Requirement already satisfied: safetensors>=0.4.3 in /usr/local/lib/python3.11/dist-packages (from transformers) (0.5.3)\n",
            "Requirement already satisfied: tqdm>=4.27 in /usr/local/lib/python3.11/dist-packages (from transformers) (4.67.1)\n",
            "Requirement already satisfied: typing-extensions>=4.10.0 in /usr/local/lib/python3.11/dist-packages (from torch) (4.13.2)\n",
            "Requirement already satisfied: sympy>=1.13.3 in /usr/local/lib/python3.11/dist-packages (from torch) (1.14.0)\n",
            "Requirement already satisfied: networkx in /usr/local/lib/python3.11/dist-packages (from torch) (3.4.2)\n",
            "Requirement already satisfied: jinja2 in /usr/local/lib/python3.11/dist-packages (from torch) (3.1.6)\n",
            "Requirement already satisfied: fsspec in /usr/local/lib/python3.11/dist-packages (from torch) (2025.3.2)\n",
            "Requirement already satisfied: nvidia-cuda-nvrtc-cu12==12.6.77 in /usr/local/lib/python3.11/dist-packages (from torch) (12.6.77)\n",
            "Requirement already satisfied: nvidia-cuda-runtime-cu12==12.6.77 in /usr/local/lib/python3.11/dist-packages (from torch) (12.6.77)\n",
            "Requirement already satisfied: nvidia-cuda-cupti-cu12==12.6.80 in /usr/local/lib/python3.11/dist-packages (from torch) (12.6.80)\n",
            "Requirement already satisfied: nvidia-cudnn-cu12==9.5.1.17 in /usr/local/lib/python3.11/dist-packages (from torch) (9.5.1.17)\n",
            "Requirement already satisfied: nvidia-cublas-cu12==12.6.4.1 in /usr/local/lib/python3.11/dist-packages (from torch) (12.6.4.1)\n",
            "Requirement already satisfied: nvidia-cufft-cu12==11.3.0.4 in /usr/local/lib/python3.11/dist-packages (from torch) (11.3.0.4)\n",
            "Requirement already satisfied: nvidia-curand-cu12==10.3.7.77 in /usr/local/lib/python3.11/dist-packages (from torch) (10.3.7.77)\n",
            "Requirement already satisfied: nvidia-cusolver-cu12==11.7.1.2 in /usr/local/lib/python3.11/dist-packages (from torch) (11.7.1.2)\n",
            "Requirement already satisfied: nvidia-cusparse-cu12==12.5.4.2 in /usr/local/lib/python3.11/dist-packages (from torch) (12.5.4.2)\n",
            "Requirement already satisfied: nvidia-cusparselt-cu12==0.6.3 in /usr/local/lib/python3.11/dist-packages (from torch) (0.6.3)\n",
            "Requirement already satisfied: nvidia-nccl-cu12==2.26.2 in /usr/local/lib/python3.11/dist-packages (from torch) (2.26.2)\n",
            "Requirement already satisfied: nvidia-nvtx-cu12==12.6.77 in /usr/local/lib/python3.11/dist-packages (from torch) (12.6.77)\n",
            "Requirement already satisfied: nvidia-nvjitlink-cu12==12.6.85 in /usr/local/lib/python3.11/dist-packages (from torch) (12.6.85)\n",
            "Requirement already satisfied: nvidia-cufile-cu12==1.11.1.6 in /usr/local/lib/python3.11/dist-packages (from torch) (1.11.1.6)\n",
            "Requirement already satisfied: triton==3.3.0 in /usr/local/lib/python3.11/dist-packages (from torch) (3.3.0)\n",
            "Requirement already satisfied: setuptools>=40.8.0 in /usr/local/lib/python3.11/dist-packages (from triton==3.3.0->torch) (75.2.0)\n",
            "Requirement already satisfied: pillow!=8.3.*,>=5.3.0 in /usr/local/lib/python3.11/dist-packages (from torchvision) (11.2.1)\n",
            "Requirement already satisfied: mpmath<1.4,>=1.1.0 in /usr/local/lib/python3.11/dist-packages (from sympy>=1.13.3->torch) (1.3.0)\n",
            "Requirement already satisfied: MarkupSafe>=2.0 in /usr/local/lib/python3.11/dist-packages (from jinja2->torch) (3.0.2)\n",
            "Requirement already satisfied: charset-normalizer<4,>=2 in /usr/local/lib/python3.11/dist-packages (from requests->transformers) (3.4.2)\n",
            "Requirement already satisfied: idna<4,>=2.5 in /usr/local/lib/python3.11/dist-packages (from requests->transformers) (3.10)\n",
            "Requirement already satisfied: urllib3<3,>=1.21.1 in /usr/local/lib/python3.11/dist-packages (from requests->transformers) (2.4.0)\n",
            "Requirement already satisfied: certifi>=2017.4.17 in /usr/local/lib/python3.11/dist-packages (from requests->transformers) (2025.4.26)\n"
          ]
        }
      ],
      "source": [
        "!pip install transformers torch torchvision numpy --upgrade"
      ]
    },
    {
      "cell_type": "code",
      "source": [
        "!pip install pandas\n",
        "import pandas as pd"
      ],
      "metadata": {
        "colab": {
          "base_uri": "https://localhost:8080/"
        },
        "id": "8818fvTH68Le",
        "outputId": "663f5764-8433-416c-8ca3-699fdc9dd4d4"
      },
      "execution_count": 41,
      "outputs": [
        {
          "output_type": "stream",
          "name": "stdout",
          "text": [
            "Requirement already satisfied: pandas in /usr/local/lib/python3.11/dist-packages (2.2.2)\n",
            "Requirement already satisfied: numpy>=1.23.2 in /usr/local/lib/python3.11/dist-packages (from pandas) (2.0.2)\n",
            "Requirement already satisfied: python-dateutil>=2.8.2 in /usr/local/lib/python3.11/dist-packages (from pandas) (2.9.0.post0)\n",
            "Requirement already satisfied: pytz>=2020.1 in /usr/local/lib/python3.11/dist-packages (from pandas) (2025.2)\n",
            "Requirement already satisfied: tzdata>=2022.7 in /usr/local/lib/python3.11/dist-packages (from pandas) (2025.2)\n",
            "Requirement already satisfied: six>=1.5 in /usr/local/lib/python3.11/dist-packages (from python-dateutil>=2.8.2->pandas) (1.17.0)\n"
          ]
        }
      ]
    },
    {
      "cell_type": "code",
      "source": [
        "# ls data/marc_values.json"
      ],
      "metadata": {
        "id": "jqPH_W1MBUsU"
      },
      "execution_count": 61,
      "outputs": []
    },
    {
      "cell_type": "code",
      "source": [
        "# use this to troubleshoot\n",
        "# import pandas as pd\n",
        "\n",
        "# # Read JSON file and convert values to array\n",
        "# df = pd.read_json('data/marc_values.json', orient='index')\n",
        "# values_array = df[0].values.tolist()\n",
        "\n",
        "# # Print first few values to verify\n",
        "# print(\"First 3 values:\")\n",
        "# for value in values_array[:3]:\n",
        "#     print(f\"{value[:100]}...\")  # Print first 100 characters of each value\n",
        "\n",
        "# print(f\"\\nTotal number of values: {len(values_array)}\")\n",
        "\n"
      ],
      "metadata": {
        "colab": {
          "base_uri": "https://localhost:8080/"
        },
        "id": "klHDSZog7GpW",
        "outputId": "fd0409b1-94ab-46f5-d45f-1e4fc1d41076"
      },
      "execution_count": 56,
      "outputs": [
        {
          "output_type": "stream",
          "name": "stdout",
          "text": [
            "First 3 values:\n",
            "British writing from empire to Brexit : writing, identity and nation / Robert Spencer, Howard J. Boo...\n",
            "Contesting cosmopolitan moments in the long eighteenth century / Enit Karafili Steiner. Edinburgh : ...\n",
            "Radical writers and the media revolution in the late Enlightenment / Christoph Streb. Liverpool : Li...\n",
            "\n",
            "Total number of values: 40\n"
          ]
        }
      ]
    },
    {
      "cell_type": "code",
      "source": [
        "# Show versions:\n",
        "!pip freeze | grep tensorflow\n",
        "!pip freeze | grep torch\n",
        "!pip freeze | grep numpy\n",
        "# Show Python version\n",
        "import os\n",
        "import sys\n",
        "print(sys.executable)\n",
        "print(sys.version)\n",
        "print(sys.version_info)"
      ],
      "metadata": {
        "colab": {
          "base_uri": "https://localhost:8080/"
        },
        "id": "RG0-kJvU8OFi",
        "outputId": "88478210-37d3-4b92-cfed-ad5dcbd29f7c"
      },
      "execution_count": 57,
      "outputs": [
        {
          "output_type": "stream",
          "name": "stdout",
          "text": [
            "tensorflow==2.18.0\n",
            "tensorflow-datasets==4.9.8\n",
            "tensorflow-hub==0.16.1\n",
            "tensorflow-io-gcs-filesystem==0.37.1\n",
            "tensorflow-metadata==1.17.1\n",
            "tensorflow-probability==0.25.0\n",
            "tensorflow-text==2.18.1\n",
            "tensorflow_decision_forests==1.11.0\n",
            "torch @ https://download.pytorch.org/whl/cu124/torch-2.6.0%2Bcu124-cp311-cp311-linux_x86_64.whl\n",
            "torchao==0.10.0\n",
            "torchaudio @ https://download.pytorch.org/whl/cu124/torchaudio-2.6.0%2Bcu124-cp311-cp311-linux_x86_64.whl\n",
            "torchdata==0.11.0\n",
            "torchsummary==1.5.1\n",
            "torchtune==0.6.1\n",
            "torchvision @ https://download.pytorch.org/whl/cu124/torchvision-0.21.0%2Bcu124-cp311-cp311-linux_x86_64.whl\n",
            "numpy==2.0.2\n",
            "/usr/bin/python3\n",
            "3.11.12 (main, Apr  9 2025, 08:55:54) [GCC 11.4.0]\n",
            "sys.version_info(major=3, minor=11, micro=12, releaselevel='final', serial=0)\n"
          ]
        }
      ]
    },
    {
      "cell_type": "code",
      "source": [
        "from transformers import BertTokenizer, BertModel\n",
        "import torch\n",
        "import numpy as np\n",
        "import pandas as pd\n",
        "from sklearn.metrics.pairwise import cosine_similarity\n",
        "\n",
        "# Check PyTorch version\n",
        "print(torch.__version__)\n",
        "print(torch.cuda.is_available)\n",
        "\n",
        "# torch.set_default_device(device='cuda:0')\n",
        "# torch.get_default_device()\n",
        "\n",
        "# print(torch.accelerator.current_accelerator().type)\n",
        "\n",
        "# Load pre-trained model and tokenizer\n",
        "tokenizer = BertTokenizer.from_pretrained('bert-base-uncased')\n",
        "model = BertModel.from_pretrained('bert-base-uncased')\n",
        "\n",
        "df = pd.read_json('data/marc_values.json', orient='index')\n",
        "# values_array = df[0].values.tolist()\n",
        "texts = df[0].values.tolist()\n",
        "\n",
        "def get_sentence_embedding(text):\n",
        "    # Tokenize and prepare input tensors\n",
        "    inputs = tokenizer(text, return_tensors='pt')\n",
        "    # Disable gradient calculation\n",
        "    with torch.no_grad():\n",
        "        # Get model outputs\n",
        "        outputs = model(**inputs)\n",
        "    # Extract the last hidden states (embeddings)\n",
        "    last_hidden_states = outputs.last_hidden_state\n",
        "    # Average token embeddings\n",
        "    sentence_embedding = torch.mean(last_hidden_states, dim=1).numpy()\n",
        "    return sentence_embedding\n",
        "\n",
        "# Generate embeddings for texts\n",
        "embeddings = [get_sentence_embedding(text) for text in texts]\n",
        "\n",
        "# Query text\n",
        "query_text = \"American literature History\"\n",
        "query_embedding = get_sentence_embedding(query_text)\n",
        "\n",
        "# Compute cosine similarities\n",
        "# Lokk for another similarity index that I could use.\n",
        "similarities = cosine_similarity(query_embedding, np.vstack(embeddings))\n",
        "\n",
        "# Print query text\n",
        "print (f\"Query text: {query_text}\")\n",
        "\n",
        "# Print similarities\n",
        "for i, text in enumerate(texts):\n",
        "    print(f\"Similarity with '{text}': {similarities[0][i]}\")\n"
      ],
      "metadata": {
        "colab": {
          "base_uri": "https://localhost:8080/"
        },
        "id": "DkQUi9BF86dY",
        "outputId": "123082df-ab1d-4993-b486-6418eee19dd3"
      },
      "execution_count": 63,
      "outputs": [
        {
          "output_type": "stream",
          "name": "stdout",
          "text": [
            "2.6.0+cu124\n",
            "<function is_available at 0x7f56e5929b20>\n",
            "Query text: American literature History\n",
            "Similarity with 'British writing from empire to Brexit : writing, identity and nation / Robert Spencer, Howard J. Booth, and Anastasia Valassopoulos. Abingdon, Oxon ; New York, NY : Routledge, Taylor & Francis Group, 2025. ©2025 National characteristics, British, in literature. European Union Great Britain. Great Britain In literature. Literature and society England History 19th century. Literature and society England History 20th century. English literature 19th century History and criticism. English literature 20th century History and criticism. Britanniques dans la littérature. (CaQQLa)000278323 Littérature et société (CaQQLa)201-0044931 Angleterre (CaQQLa)201-0476579 Histoire (CaQQLa)201-0378908 19e siècle. (CaQQLa)201-0378908 Littérature et société (CaQQLa)201-0044931 Angleterre (CaQQLa)201-0476579 Histoire (CaQQLa)201-0378892 20e siècle. (CaQQLa)201-0378892 Littérature anglaise (CaQQLa)201-0049945 19e siècle (CaQQLa)201-0049945 Histoire et critique. (CaQQLa)201-0377571 Littérature anglaise (CaQQLa)201-0021567 20e siècle (CaQQLa)201-0021567 Histoire et critique. (CaQQLa)201-0377571': 0.3941965103149414\n",
            "Similarity with 'Contesting cosmopolitan moments in the long eighteenth century / Enit Karafili Steiner. Edinburgh : Edinburgh University Press, [2025] British literature 18th century History and criticism. Cosmopolitanism in literature.': 0.5419031381607056\n",
            "Similarity with 'Radical writers and the media revolution in the late Enlightenment / Christoph Streb. Liverpool : Liverpool University Press, 2024. ©2024 British literature 18th century History. French literature 18th century History. Radicalism Great Britain 18th century History. Radicalism France 18th century History. Mass media Great Britain 18th century History. Mass media France 18th century History. Littérature britannique 18e siècle Histoire. Littérature française 18e siècle Histoire. Radicalisme Grande-Bretagne 18e siècle Histoire. Radicalisme France 18e siècle Histoire. Médias Grande-Bretagne 18e siècle Histoire. Médias France 18e siècle Histoire.': 0.4499380886554718\n",
            "Similarity with 'A brief record of the Oliver government. [Vancouver] : Sun Job Presses, [1920] Campaign literature Canada. Campagnes électorales Canada Documentation. British Columbia Politics and government 1916-1928. Colombie-Britannique Politique et gouvernement 1916-1928. British Columbia Liberal Association. British Columbia Liberal Association.': 0.4462016224861145\n",
            "Similarity with 'Misrule of the Oliver-Farris government. [Vancouver?] : Acme Press, [1920?] Campaign literature Canada. Campagne électorales Canada Documentation. British Columbia Politics and government 1916-1928. Colombie-Britannique Politique et gouvernement 1916-1928. Conservative Party of British Columbia. Conservative Party of British Columbia.': 0.439882755279541\n",
            "Similarity with 'To the electors of Yale : yours respectfully John P. McConnell. [British Columbia? : publisher not identified, 1912?] Campaign literature Canada. Campagnes électorales Documentation Canada. British Columbia Politics and government 1903-1916. Colombie-Britannique Politique et gouvernement 1903-1916. British Columbia Liberal Association. Liberal Party in British Columbia Platforms. British Columbia Liberal Association. Parti libéral de la Colombie-Britannique Programmes.': 0.43219855427742004\n",
            "Similarity with 'Election address : Lieut.-Col. the Hon. E.G. Prior, Minister of Mines, the government candidate. [Victoria, B.C.? : publisher not identified, 1902?] Campaign literature British Columbia. Campagnes électorales Documentation Colombie-Britannique. British Columbia Politics and government 1871-1903. Colombie-Britannique Politique et gouvernement 1871-1903.': 0.43679237365722656\n",
            "Similarity with 'The Business record of a business government. [Victoria, B.C.] : Colonist Presses, [1909?] Campaign literature, Canadian, 1916 Conservative Party of British Columbia. Campagnes électorales Canada Documentation, 1916 Conservative Party of British Columbia. British Columbia Politics and government 1903-1916. Colombie-Britannique Politique et gouvernement 1903-1916.': 0.46237051486968994\n",
            "Similarity with 'A record of things done in behalf of the farmers : an account of what the Conservative government has done and is doing to promote the industry of agriculture in British Columbia and make easier the task of the tiller of the soil. [British Columbia? : publisher not identified, 1916?] Agricultural laws and legislation British Columbia. Agriculture and state British Columbia. Campaign literature, Canadian, 1916 Conservative Party of British Columbia. Campagnes électorales Canada Documentation, 1916 Conservative Party of British Columbia. Droit rural Colombie-Britannique. Politique agricole Colombie-Britannique.': 0.4499987065792084\n",
            "Similarity with 'The platform of the Liberal Party of British Columbia. [Vancouver : Saturday Sunset Presses, 1916?] Campaign literature, Canadian, 1916 Liberal Party in British Columbia. Campagnes électorales Canada Documentation, 1916 Parti libéral de la Colombie-Britannique. British Columbia Politics and government 1903-1916. Colombie-Britannique Politique et gouvernement 1903-1916.': 0.41487666964530945\n",
            "Similarity with 'Parry's third voyage for the discovery of a north-west passage in the years 1824 and 1825 : with an account of the Esquimaux / edited from Parry's first edition of his voyage with a biographical introduction. London; Glasgow : Blackie, 1894. Northwest Passage Juvenile literature. Inuit Juvenile literature. Inuit Ouvrages pour la jeunesse. Nord-Ouest, Passage du Ouvrages pour la jeunesse. Arctic regions Discovery and exploration British Juvenile literature. Régions arctiques Découverte et exploration britanniques Ouvrages pour la jeunesse. Parry, William Edward, Sir, 1790-1855 Juvenile literature. Parry, William Edward, Sir, 1790-1855 Ouvrages pour la jeunesse.': 0.4204217195510864\n",
            "Similarity with 'The Apple lands of Aldergrove. New Westminster, B.C. : F.J. Hart and Company, [1910? (Vancouver] : Evans and Hastings) Agriculture British Columbia Aldergrove. Agriculture Colombie-Britannique Aldergrove. Canadian immigration literature (English) 1897-1918. Aldergrove (C.-B.) Descriptions et voyages. Aldergrove (B.C.) Description and travel. Canada Émigration et immigration Guides, manuels, etc. anglais 1897- 1918.': 0.4912136197090149\n",
            "Similarity with 'Women of British Columbia : read the record of the Oliver government on matters in which you are vitally interested. Vancouver : Sun Job Presses, [1920?] Women Legal status, laws, etc. British Columbia. Campagnes électorales Canada Documentation, 1920 British Columbia Liberal Association. Femmes Droit Colombie-Britannique. Campaign literature, Canadian, 1920 British Columbia Liberal Association.': 0.46764513850212097\n",
            "Similarity with 'Vancouver Island, British Columbia, Canada : the farmer' s home ; berry growing, vegetable raising, fruit growing, poultry raising, dairying, mixed farming, horses, cattle, sheep and hogs, good prices and steady markets ; the best all-year round mild climate in Canada, no blizzards, no six months winter sieges, no sunstrokes, no furnace heat summers ; there are many places for settlers but only one place ; and that is - Vancouver Island, B.C., Canada. [British Columbia? : publisher not identified, 1913?] Agriculture Colombie-Britannique Vancouver, ÃƒÂ®le de. Agriculture British Columbia Vancouver Island. Canadian immigration literature (English) 1897-1918. Canada Émigration et immigration Guides, manuels, etc. anglais 1897- 1918.6 Vancouver, ÃƒÂ®le de (C.-B.) Descriptions et voyages.0 Vancouver Island (B.C.) Description and travel.': 0.44480323791503906\n",
            "Similarity with 'Discovering Britain and Ireland in the Romantic period : grand tours / edited by James Watt, Alison O'Byrne. Cambridge : Cambridge University Press, . Travelers' writings, British 19th century History and criticism. Travelers' writings, English Ireland History and criticism. Great Britain Description and travel. http://id.loc.gov/authorities/subjects/sh85056663 Ireland Description and travel. http://id.loc.gov/authorities/subjects/sh85067977 Romanticism Influence. Great Britain In literature. http://id.loc.gov/authorities/subjects/sh2007100286 Ireland In literature. http://id.loc.gov/authorities/subjects/sh2008104923': 0.4500388503074646\n",
            "Similarity with 'William Morris and the aesthetic constitution of politics / Bradley J. Macdonald. Second edition. Lanham : Lexington Books, [2024] Morris, William, 1834-1896 Political and social views. Aesthetics Political aspects Great Britain History 19th century. Politics and literature Great Britain History 19th century. Art Political aspects Great Britain History 19th century. Great Britain Politics and government 1837-1901. Aesthetics, British 19th century. Politique et littérature (CaQQLa)201-0029043 Grande-Bretagne (CaQQLa)201-0441031 Histoire (CaQQLa)201-0378908 19e siècle. (CaQQLa)201-0378908 Grande-Bretagne Politique et gouvernement 1837-1901. (CaQQLa)201-0076985 Esthétique britannique 19e siècle. (CaQQLa)201-0132192': 0.4640626311302185\n",
            "Similarity with 'Policy Document of the BC Conservative Party British Columbia's Conservatives. At head of title: Langley, B.C. : BC Conservative Party, 2012 Campaign literature British Columbia. Agriculture Iptcnc Alternative energy Iptcnc Bc hydro Iptcnc British columbia Iptcnc Government Iptcnc Health care Iptcnc Politics Iptcnc Supply management (canada) Iptcnc Tax Iptcnc Economy Iptcnc British Columbia Politics and government 2001-. British Columbia Conservative Party Platforms.': 0.418637216091156\n",
            "Similarity with 'Green book 2013 Victoria, B.C. : Green Party of BC, 2013 Campaign literature British Columbia. Agriculture Iptcnc Air pollution Iptcnc Disability Iptcnc Economy Iptcnc Education Iptcnc Employment Iptcnc Fishing Iptcnc Greenhouse gas Iptcnc Health Iptcnc Natural gas Iptcnc British Columbia Politics and government 2001-. Green Party of British Columbia Platforms. British Columbia. Legislative Assembly Elections, 2013.': 0.41582924127578735\n",
            "Similarity with 'Strong Economy, Secure Tomorrow: 2013 Platform Victoria, B.C. : BC Liberal Party, 2013 Campaign literature British Columbia. British Columbia Politics and government. British Columbia Politics and government 2001- British Columbia Liberal Party Platforms. British Columbia. Legislative Assembly Elections, 2013.': 0.46712222695350647\n",
            "Similarity with 'Families first agenda for change: Clark campaign policy proposals Clark campaign policy proposals. Vote for change. [Victoria, B.C.] : [BC Liberal Party], [2011] Family policy British Columbia. Campaign literature British Columbia. British columbia Iptcnc Crime Iptcnc Criminal justice Iptcnc Tax Iptcnc Venture capital Iptcnc Sustainable energy Iptcnc Government Iptcnc Smoking cessation Iptcnc Tourism Iptcnc Entrepreneurship Iptcnc British Columbia Politics and government. British Columbia Politics and government 2001- British Columbia Liberal Party Platforms. British Columbia. Premier Elections, 2011.': 0.4294583201408386\n",
            "Similarity with 'Policies of the Christian Heritage Party of British Columbia Christian Heritage Party of British Columbia. Revised September 04, 2014. [Smithers, British Columbia] : Christian Heritage Party of British Columbia, [2014] Ottawa, Ontario : Canadian Electronic Library, 2015. Campaign literature British Columbia. Abortion Iptcnc British columbia Iptcnc Canada Iptcnc Citizenship Iptcnc Crime Iptcnc Election Iptcnc Electricity generation Iptcnc Federal government of the united states Iptcnc Government Iptcnc Health care Iptcnc British Columbia Politics and government 2001- British Columbia Politics and government. Christian Heritage Party of British Columbia Platforms.': 0.43500855565071106\n",
            "Similarity with 'Return of the gods : mythology in romantic philosophy and literature / Owen Ware. First edition. New York, NY : Oxford University Press, [2024] ©2024 Mythology in literature. German literature 19th century History and criticism. English literature 19th century History and criticism. Romanticism Germany. Romanticism Great Britain. Philosophy, German 19th century. Philosophy, British 19th century.': 0.5509452819824219\n",
            "Similarity with 'Harry Potter : a history of magic. History of magic London : Bloomsbury Publishing Plc, 2017. ©2017 Rowling, J. K. Harry Potter series History Exhibitions Juvenile literature. Rowling, J. K. Harry Potter series Miscellanea Exhibitions Juvenile literature. British Library Exhibitions Juvenile literature. Witchcraft History Exhibitions. Magic in literature Exhibitions. Wizards in literature Exhibitions. Rowling, J. K. Harry Potter series History Exhibitions. British Library Exhibitions. Harry Potter films. Magic History. Sorcellerie Histoire Expositions. Magie dans la littérature Expositions. Rowling, J. K. History. cct Rowling, J. K. cct British Library. cct Harry Potter films Juvenile literature. cct Magic History Juvenile literature. cct Harry Potter films. cct Magic History. cct Magic. cct Exhibition catalogs. cct History. cct Juvenile works. cct Literature. eflch British Library fast Harry Potter series (Rowling, J. K.) fast Wizards in literature fast Witchcraft fast Magic in literature fast Harry Potter films fast Magic fast Rowling, J. K. 1965- Harry Potter gnd Harry Potter films. sears Literature. ukslc exhibition catalogs. aat Exhibition catalogs fast History fast Juvenile works fast Exhibition catalogs. lcgft Catalogues d'exposition. rvmgf': 0.44280245900154114\n",
            "Similarity with 'Masculinities and representation : the eroticized male in early modern Italy and England / edited by Konrad Eisenbichler. Toronto ; Buffalo ; London : University of Toronto Press, [2024] Masculinity Italy History Early modern, 1500-1700. Masculinity England History Early modern, 1500-1700. Masculinity in literature. Masculinity in art. Arts, Italian History Early modern, 1500-1700. Arts, British History Early modern, 1500-1700. Masculinity Social aspects History Early modern, 1500-1700. Masculinity Italy History. Masculinity England History. Masculinité Italie Histoire. Masculinité Angleterre Histoire. Masculinité dans la littérature. Masculinité dans l'art.': 0.45013052225112915\n",
            "Similarity with 'British book news. No. 69 : a monthly selection of recent books. London : National Book League, 1946. Blind Books and reading. http://id.loc.gov/authorities/subjects/sh85014856 British literature. http://id.loc.gov/authorities/subjects/sh85016973': 0.4467884302139282\n",
            "Similarity with 'Review 43, a quarterly review of literature, art and science / edited by Walter Berger and Pavel Tigrid. London : George Allen and Unwin, Limited, 1943. Art, British 20th century. http://id.loc.gov/authorities/subjects/sh2003010015 Art, Czech 20th century. http://id.loc.gov/authorities/subjects/sh2006002697 Czech literature 20th century. http://id.loc.gov/authorities/subjects/sh85035277 Slovak literature 20th century. http://id.loc.gov/authorities/subjects/sh85123481': 0.40986472368240356\n",
            "Similarity with 'Art and the industrial revolution / by Francis D. Klingender. London : Noel Carrington, 1947. Art, British. http://id.loc.gov/authorities/subjects/sh85007581 English literature 18th century History and criticism. http://id.loc.gov/authorities/subjects/sh2008102755 English literature 19th century History and criticism. http://id.loc.gov/authorities/subjects/sh2008102754 Industries in art. http://id.loc.gov/authorities/subjects/sh85065979 Industries in literature. http://id.loc.gov/authorities/subjects/sh85065980': 0.4228896498680115\n",
            "Similarity with 'The European magazine, and London review [electronic resource] : containing the literature, history, politics, arts, manners and amusements of the age. By the Philological Society of London. European magazine, and London review London [England] : printed for John Fielding No. 23, Pater Noster Row; John Debrett, opposite Burlington House, Piccadilly; and John Sewell, No. 32, Cornhill, [1782]-1826. British literature History 18th century Periodicals Early works to 1800. Great Britain Civilization 18th century Periodicals Early works to 1800. Great Britain Social life and customs 18th century Periodicals Early works to 1800. Periodicals England 18th century. rbgenr Essays Great Britain 18th century. rbgenr': 0.49920156598091125\n",
            "Similarity with 'Explorers, dreamers and thieves : writers in the archives in the British Museum / Selva Almada, Rita Indiana, Josefa Sánchez Contreras, Philippe Sands, Juan Gabriel Vásquez, Gabriela Wiener ; translated by Anne McLean, Robin Myers [and three others]. Edinburgh : Charco Press, 2024. British Museum Essays. Museum objects Poetry. Latin American literature. Objets exposés Poésie. Littérature latino-américaine.': 0.4487093687057495\n",
            "Similarity with 'Sylvia Beach and the lost generation Sylvia Beach : Eine Biographie im literarischen Paris 1920-1940 / Noel R. Fitch ; Aus dem Amerikanischen von Angelika Schleindl Insel. Nordlingen : Wagner, 1988. Beach, Sylvia. Booksellers and bookselling France Paris Biography. Paris (France) Intellectual life 20th century. Americans France Paris History 20th century. British France Paris History 20th century. Literature publishing France Paris History 20th century. Literary landmarks France Paris History 20th century. Joyce, James, 1882-1941. Beach Sylvia Biographie 1920-1940. Paris (France) Vie intellectuelle 20e siècle. Britanniques France Paris Histoire 20e siècle. Littérature Édition France Paris Histoire 20e siècle. Écrivains Résidences et lieux familiers France Paris Histoire 20e siècle. Beach, Sylvia fast (OCoLC)fst00044498 https://id.oclc.org/worldcat/entity/E39PBJgH7gjGjx7dpV8trt48YP Joyce, James, 1882-1941 fast (OCoLC)fst00035968 https://id.oclc.org/worldcat/entity/E39PBJcGrYrqpkRpQrMfc4bjmd Americans. fast (OCoLC)fst00807488 Booksellers and bookselling. fast (OCoLC)fst00836492 British. fast (OCoLC)fst00839044 Intellectual life. fast (OCoLC)fst00975769 Literary landmarks. fast (OCoLC)fst00999933 Literature publishing. fast (OCoLC)fst01000111 France Paris fast (OCoLC)fst01205283 https://id.oclc.org/worldcat/entity/E39QbtfRkKTXcHQJ477vgbjTxc Beach, Sylvia. swd 1900-1999 fast Biographies. fast (OCoLC)fst01919896 History. fast (OCoLC)fst01411628': 0.3683546185493469\n",
            "Similarity with 'The history of the black slaves : being an affectionate address to the children of Great Britain, of all ranks and denominations / by an old friend to the young. Leicester : Printed and sold by A. Cockshaw ..., [1830?] Slavery Moral and ethical aspects Juvenile literature. Slavery West Indies, British Juvenile literature. Slave trade Juvenile literature. Antislavery movements Great Britain Juvenile literature.': 0.47465336322784424\n",
            "Similarity with 'The inhuman empire : wildlife, colonialism, culture / Sadhana Naithani. New York : Routledge, Taylor & Francis Group, 2024. ©2024 Animals in literature. Hunting in literature. India In literature. English literature 19th century History and criticism. English literature 20th century History and criticism. British India History. India History British occupation, 1765-1947. Great Britain Colonies Asia. Animaux dans la littérature. (CaQQLa)201-0001369 Littérature anglaise (CaQQLa)201-0049945 19e siècle (CaQQLa)201-0049945 Histoire et critique. (CaQQLa)201-0377571 Littérature anglaise (CaQQLa)201-0021567 20e siècle (CaQQLa)201-0021567 Histoire et critique. (CaQQLa)201-0377571 Britanniques (CaQQLa)201-0003276 Inde (CaQQLa)201-0482676 Histoire. (CaQQLa)201-0378888 Inde Histoire 1765-1947 (Occupation britannique) (CaQQLa)201-0013890 Grande-Bretagne Colonies Asie. (CaQQLa)201-0163246': 0.40686649084091187\n",
            "Similarity with 'Black travel writing : contemporary narratives of travel to Africa by African American and Black British authors / Isabel Kalous. 1st ed. Bielefeld : transcript Verlag, [2021] ©2021 American literature History and criticism. British literature History and criticism.': 0.5331360697746277\n",
            "Similarity with 'Consuming anxieties : alcohol, tobacco, and trade in British satire, 1660-1751 / Dayne C. Riley. Alcohol, tobacco, and trade in British satire, 1660-1751 Lewisburg, Pennsylvania : Bucknell University Press, [2024] English literature 17th century History and criticism. English literature 18th century History and criticism. Drinking of alcoholic beverages in literature. Tobacco in literature. Satire, English History and criticism. Literature and society Great Britain History 17th century. Literature and society Great Britain History 18th century. National characteristics, British, in literature. Literary criticism. lcgft': 0.5577561855316162\n",
            "Similarity with 'Empire of culture : neo-Victorian narratives in the global creative economy / Waiyee Loh. Albany : State University of New York Press, 2024. English literature 19th century History and criticism. Great Britain Colonies History. Civilization British influences. British Foreign countries. Littérature anglaise (CaQQLa)201-0049945 19e siècle (CaQQLa)201-0049945 Histoire et critique. (CaQQLa)201-0377571 Grande-Bretagne Colonies Histoire. (CaQQLa)201-0163217 Britanniques Pays étrangers. (CaQQLa)201-0106047': 0.460371196269989\n",
            "Similarity with 'Critical perspectives on resistance in 21-st century British literature / edited by Nilay Erdem Ayyildiz. Newcastle upon Tyne : Cambridge Scholars Publishing, 2024. ©2024 British literature History and criticism 21st century. Resistance (Philosophy) in literature.': 0.5238397121429443\n",
            "Similarity with 'Out of hiding : Holocaust literature of British Columbia : an historical survey in appreciation of Robert Krell / Alan Twigg ; afterword by Yosef Wosk. Vancouver, B.C., Canada : Ronsdale Press, [2022] ©2022 Canadian literature British Columbia History and criticism. Holocaust survivors' writings. Holocaust survivors' writings History and criticism. Holocaust, Jewish (1939-1945), in literature. Holocaust survivors British Columbia. Jews British Columbia. Jews, Canadian British Columbia. Canadian literature. fast (OCoLC)fst00845111 Holocaust, Jewish (1939-1945) in literature. fast (OCoLC)fst00958923 Holocaust survivors. fast (OCoLC)fst00958838 Holocaust survivors' writings. fast (OCoLC)fst00958863 Jews. fast (OCoLC)fst00983135 Jews, Canadian. fast (OCoLC)fst00983427 British Columbia. fast (OCoLC)fst01205265 Canadian literature British Columbia History and criticism nli Holocaust survivors' writings nli Holocaust survivors' writings History and criticism nli Holocaust, Jewish (1939-1945), in literature nli Holocaust survivors British Columbia nli Jews British Columbia nli Literary criticism fast (OCoLC)fst01986215 Criticism, interpretation, etc. fast (OCoLC)fst01411635 Literary criticism. lcgft': 0.433071494102478\n",
            "Similarity with 'Finnegans Wakes : Tales of Translation / Patrick O'Neill. First edition. Toronto, Ontario : University of Toronto Press, [2022] ©2022 British literature. Joyce, James, 1882-1941 Translations History and criticism. Joyce, James, 1882-1941. Finnegans wake.': 0.5214434266090393\n",
            "Similarity with 'The Savage and Modern Self : North American Indians in Eighteenth-Century British Literature and Culture / Robbie Richardson. Toronto : University of Toronto Press, [2019] ©2018 Indians in literature. English literature 18th century History and criticism. National characteristics, British, in literature.': 0.5528954267501831\n",
            "Similarity with 'Literature and the Renaissance garden from Elizabeth I to Charles II : England's Paradise / Amy L. Tigner. 1st ed. Farnham, Surrey, U.K. ; Burlington, VT : Ashgate Pub., 2012. English literature Early modern, 1500-1700 History and criticism. Gardens, English, in literature. National characteristics, British, in literature. Renaissance Great Britain.': 0.5565205216407776\n"
          ]
        }
      ]
    }
  ]
}