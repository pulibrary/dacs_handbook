{
  "nbformat": 4,
  "nbformat_minor": 0,
  "metadata": {
    "colab": {
      "provenance": []
    },
    "kernelspec": {
      "name": "python3",
      "display_name": "Python 3"
    },
    "language_info": {
      "name": "python"
    }
  },
  "cells": [
    {
      "cell_type": "markdown",
      "source": [],
      "metadata": {
        "id": "qaHOPn1TP66V"
      }
    },
    {
      "cell_type": "code",
      "source": [
        "#!pip uninstall transformers torch torchvision numpy -y"
      ],
      "metadata": {
        "id": "OhPx83FyP-TJ"
      },
      "execution_count": 1,
      "outputs": []
    },
    {
      "cell_type": "code",
      "execution_count": 2,
      "metadata": {
        "colab": {
          "base_uri": "https://localhost:8080/"
        },
        "id": "osSCOy0M8KlP",
        "outputId": "b7d08462-0096-483d-c606-df775f787a50"
      },
      "outputs": [
        {
          "output_type": "stream",
          "name": "stdout",
          "text": [
            "Requirement already satisfied: transformers in /usr/local/lib/python3.11/dist-packages (4.52.2)\n",
            "Requirement already satisfied: torch in /usr/local/lib/python3.11/dist-packages (2.6.0+cu124)\n",
            "Collecting torch\n",
            "  Using cached torch-2.7.0-cp311-cp311-manylinux_2_28_x86_64.whl.metadata (29 kB)\n",
            "Requirement already satisfied: torchvision in /usr/local/lib/python3.11/dist-packages (0.21.0+cu124)\n",
            "Collecting torchvision\n",
            "  Using cached torchvision-0.22.0-cp311-cp311-manylinux_2_28_x86_64.whl.metadata (6.1 kB)\n",
            "Requirement already satisfied: numpy in /usr/local/lib/python3.11/dist-packages (2.2.6)\n",
            "Requirement already satisfied: filelock in /usr/local/lib/python3.11/dist-packages (from transformers) (3.18.0)\n",
            "Requirement already satisfied: huggingface-hub<1.0,>=0.30.0 in /usr/local/lib/python3.11/dist-packages (from transformers) (0.31.2)\n",
            "Requirement already satisfied: packaging>=20.0 in /usr/local/lib/python3.11/dist-packages (from transformers) (24.2)\n",
            "Requirement already satisfied: pyyaml>=5.1 in /usr/local/lib/python3.11/dist-packages (from transformers) (6.0.2)\n",
            "Requirement already satisfied: regex!=2019.12.17 in /usr/local/lib/python3.11/dist-packages (from transformers) (2024.11.6)\n",
            "Requirement already satisfied: requests in /usr/local/lib/python3.11/dist-packages (from transformers) (2.32.3)\n",
            "Requirement already satisfied: tokenizers<0.22,>=0.21 in /usr/local/lib/python3.11/dist-packages (from transformers) (0.21.1)\n",
            "Requirement already satisfied: safetensors>=0.4.3 in /usr/local/lib/python3.11/dist-packages (from transformers) (0.5.3)\n",
            "Requirement already satisfied: tqdm>=4.27 in /usr/local/lib/python3.11/dist-packages (from transformers) (4.67.1)\n",
            "Requirement already satisfied: typing-extensions>=4.10.0 in /usr/local/lib/python3.11/dist-packages (from torch) (4.13.2)\n",
            "Requirement already satisfied: sympy>=1.13.3 in /usr/local/lib/python3.11/dist-packages (from torch) (1.14.0)\n",
            "Requirement already satisfied: networkx in /usr/local/lib/python3.11/dist-packages (from torch) (3.4.2)\n",
            "Requirement already satisfied: jinja2 in /usr/local/lib/python3.11/dist-packages (from torch) (3.1.6)\n",
            "Requirement already satisfied: fsspec in /usr/local/lib/python3.11/dist-packages (from torch) (2025.3.2)\n",
            "Requirement already satisfied: nvidia-cuda-nvrtc-cu12==12.6.77 in /usr/local/lib/python3.11/dist-packages (from torch) (12.6.77)\n",
            "Requirement already satisfied: nvidia-cuda-runtime-cu12==12.6.77 in /usr/local/lib/python3.11/dist-packages (from torch) (12.6.77)\n",
            "Requirement already satisfied: nvidia-cuda-cupti-cu12==12.6.80 in /usr/local/lib/python3.11/dist-packages (from torch) (12.6.80)\n",
            "Requirement already satisfied: nvidia-cudnn-cu12==9.5.1.17 in /usr/local/lib/python3.11/dist-packages (from torch) (9.5.1.17)\n",
            "Requirement already satisfied: nvidia-cublas-cu12==12.6.4.1 in /usr/local/lib/python3.11/dist-packages (from torch) (12.6.4.1)\n",
            "Requirement already satisfied: nvidia-cufft-cu12==11.3.0.4 in /usr/local/lib/python3.11/dist-packages (from torch) (11.3.0.4)\n",
            "Requirement already satisfied: nvidia-curand-cu12==10.3.7.77 in /usr/local/lib/python3.11/dist-packages (from torch) (10.3.7.77)\n",
            "Requirement already satisfied: nvidia-cusolver-cu12==11.7.1.2 in /usr/local/lib/python3.11/dist-packages (from torch) (11.7.1.2)\n",
            "Requirement already satisfied: nvidia-cusparse-cu12==12.5.4.2 in /usr/local/lib/python3.11/dist-packages (from torch) (12.5.4.2)\n",
            "Requirement already satisfied: nvidia-cusparselt-cu12==0.6.3 in /usr/local/lib/python3.11/dist-packages (from torch) (0.6.3)\n",
            "Requirement already satisfied: nvidia-nccl-cu12==2.26.2 in /usr/local/lib/python3.11/dist-packages (from torch) (2.26.2)\n",
            "Requirement already satisfied: nvidia-nvtx-cu12==12.6.77 in /usr/local/lib/python3.11/dist-packages (from torch) (12.6.77)\n",
            "Requirement already satisfied: nvidia-nvjitlink-cu12==12.6.85 in /usr/local/lib/python3.11/dist-packages (from torch) (12.6.85)\n",
            "Requirement already satisfied: nvidia-cufile-cu12==1.11.1.6 in /usr/local/lib/python3.11/dist-packages (from torch) (1.11.1.6)\n",
            "Requirement already satisfied: triton==3.3.0 in /usr/local/lib/python3.11/dist-packages (from torch) (3.3.0)\n",
            "Requirement already satisfied: setuptools>=40.8.0 in /usr/local/lib/python3.11/dist-packages (from triton==3.3.0->torch) (75.2.0)\n",
            "Requirement already satisfied: pillow!=8.3.*,>=5.3.0 in /usr/local/lib/python3.11/dist-packages (from torchvision) (11.2.1)\n",
            "Requirement already satisfied: mpmath<1.4,>=1.1.0 in /usr/local/lib/python3.11/dist-packages (from sympy>=1.13.3->torch) (1.3.0)\n",
            "Requirement already satisfied: MarkupSafe>=2.0 in /usr/local/lib/python3.11/dist-packages (from jinja2->torch) (3.0.2)\n",
            "Requirement already satisfied: charset-normalizer<4,>=2 in /usr/local/lib/python3.11/dist-packages (from requests->transformers) (3.4.2)\n",
            "Requirement already satisfied: idna<4,>=2.5 in /usr/local/lib/python3.11/dist-packages (from requests->transformers) (3.10)\n",
            "Requirement already satisfied: urllib3<3,>=1.21.1 in /usr/local/lib/python3.11/dist-packages (from requests->transformers) (2.4.0)\n",
            "Requirement already satisfied: certifi>=2017.4.17 in /usr/local/lib/python3.11/dist-packages (from requests->transformers) (2025.4.26)\n",
            "Using cached torch-2.7.0-cp311-cp311-manylinux_2_28_x86_64.whl (865.2 MB)\n",
            "Using cached torchvision-0.22.0-cp311-cp311-manylinux_2_28_x86_64.whl (7.4 MB)\n",
            "Installing collected packages: torch, torchvision\n",
            "  Attempting uninstall: torch\n",
            "    Found existing installation: torch 2.6.0+cu124\n",
            "    Uninstalling torch-2.6.0+cu124:\n",
            "      Successfully uninstalled torch-2.6.0+cu124\n",
            "  Attempting uninstall: torchvision\n",
            "    Found existing installation: torchvision 0.21.0+cu124\n",
            "    Uninstalling torchvision-0.21.0+cu124:\n",
            "      Successfully uninstalled torchvision-0.21.0+cu124\n",
            "\u001b[31mERROR: pip's dependency resolver does not currently take into account all the packages that are installed. This behaviour is the source of the following dependency conflicts.\n",
            "fastai 2.7.19 requires torch<2.7,>=1.10, but you have torch 2.7.0 which is incompatible.\n",
            "torchaudio 2.6.0+cu124 requires torch==2.6.0, but you have torch 2.7.0 which is incompatible.\u001b[0m\u001b[31m\n",
            "\u001b[0mSuccessfully installed torch-2.7.0 torchvision-0.22.0\n"
          ]
        }
      ],
      "source": [
        "!pip install transformers torch torchvision numpy --upgrade"
      ]
    },
    {
      "cell_type": "code",
      "source": [
        "# Show versions:\n",
        "!pip freeze | grep tensorflow\n",
        "!pip freeze | grep torch\n",
        "!pip freeze | grep numpy\n",
        "# Show Python version\n",
        "import os\n",
        "import sys\n",
        "print(sys.executable)\n",
        "print(sys.version)\n",
        "print(sys.version_info)"
      ],
      "metadata": {
        "colab": {
          "base_uri": "https://localhost:8080/"
        },
        "id": "RG0-kJvU8OFi",
        "outputId": "c35c8ae6-559d-4fd3-c152-b2cb1a9cf993"
      },
      "execution_count": 3,
      "outputs": [
        {
          "output_type": "stream",
          "name": "stdout",
          "text": [
            "tensorflow==2.18.0\n",
            "tensorflow-datasets==4.9.8\n",
            "tensorflow-hub==0.16.1\n",
            "tensorflow-io-gcs-filesystem==0.37.1\n",
            "tensorflow-metadata==1.17.1\n",
            "tensorflow-probability==0.25.0\n",
            "tensorflow-text==2.18.1\n",
            "tensorflow_decision_forests==1.11.0\n",
            "torch==2.7.0\n",
            "torchao==0.10.0\n",
            "torchaudio @ https://download.pytorch.org/whl/cu124/torchaudio-2.6.0%2Bcu124-cp311-cp311-linux_x86_64.whl\n",
            "torchdata==0.11.0\n",
            "torchsummary==1.5.1\n",
            "torchtune==0.6.1\n",
            "torchvision==0.22.0\n",
            "numpy==2.2.6\n",
            "/usr/bin/python3\n",
            "3.11.12 (main, Apr  9 2025, 08:55:54) [GCC 11.4.0]\n",
            "sys.version_info(major=3, minor=11, micro=12, releaselevel='final', serial=0)\n"
          ]
        }
      ]
    },
    {
      "cell_type": "code",
      "source": [
        "from transformers import BertTokenizer, BertModel\n",
        "import torch\n",
        "import numpy as np\n",
        "from sklearn.metrics.pairwise import cosine_similarity\n",
        "\n",
        "# Check PyTorch version\n",
        "print(torch.__version__)\n",
        "print(torch.cuda.is_available)\n",
        "\n",
        "# torch.set_default_device(device='cuda:0')\n",
        "# torch.get_default_device()\n",
        "\n",
        "# print(torch.accelerator.current_accelerator().type)\n",
        "\n",
        "# Load pre-trained model and tokenizer\n",
        "tokenizer = BertTokenizer.from_pretrained('bert-base-uncased')\n",
        "model = BertModel.from_pretrained('bert-base-uncased')\n",
        "\n",
        "# Define the text\n",
        "texts = [\n",
        "  \"Aeronautics and Space Reports to the Congress, 1958-1984. Bethesda, Md. : University Publications of America, 2012. Astronautics United States History Sources. Manned space flight History Sources. Outer space Exploration United States. United States. National Aeronautics and Space Administration.\",\n",
        "  \"Records of President Johnson's Commission on Law Enforcement, Part 1 : Commission Correspondence and Memoranda. Bethesda, Md. : University Publications of America, 2012. Law enforcement United States History 20th century Sources. Crime United States History 20th century Sources. United States. President's Commission on Law Enforcement and Administration of Justice.\",\n",
        "  \"Associated Press, Wire Copy on the Assassinations of President John F. Kennedy and Senator Robert F. Kennedy. Bethesda, Md. : University Publications of America, 2012. Associated Press. Kennedy, John F. (John Fitzgerald), 1917-1963 Assassination Sources. Kennedy, Robert F., 1925-1968 Assassination.\"\n",
        "]\n",
        "\n",
        "def get_sentence_embedding(text):\n",
        "    # Tokenize and prepare input tensors\n",
        "    inputs = tokenizer(text, return_tensors='pt')\n",
        "    # Disable gradient calculation\n",
        "    with torch.no_grad():\n",
        "        # Get model outputs\n",
        "        outputs = model(**inputs)\n",
        "    # Extract the last hidden states (embeddings)\n",
        "    last_hidden_states = outputs.last_hidden_state\n",
        "    # Average token embeddings\n",
        "    sentence_embedding = torch.mean(last_hidden_states, dim=1).numpy()\n",
        "    return sentence_embedding\n",
        "\n",
        "# Generate embeddings for texts\n",
        "embeddings = [get_sentence_embedding(text) for text in texts]\n",
        "\n",
        "# Query text\n",
        "query_text = \"Commission Correspondence and Memoranda. Bethesda, Md\"\n",
        "query_embedding = get_sentence_embedding(query_text)\n",
        "\n",
        "# Compute cosine similarities\n",
        "similarities = cosine_similarity(query_embedding, np.vstack(embeddings))\n",
        "\n",
        "# Print query text\n",
        "print (f\"Query text: {query_text}\")\n",
        "\n",
        "# Print similarities\n",
        "for i, text in enumerate(texts):\n",
        "    print(f\"Similarity with '{text}': {similarities[0][i]}\")\n",
        "\n",
        "# # Print the dimensions of the embeddings\n",
        "# print(\"Shape of the last hidden state (embeddings):\", last_hidden_states.shape)\n",
        "\n",
        "# # Print embeddings for each token along with their vector dimension\n",
        "# tokens = tokenizer.convert_ids_to_tokens(inputs['input_ids'][0])\n",
        "# for token, embedding in zip(tokens, last_hidden_states[0]):\n",
        "#     print(f\"Token: {token}, Embedding Dimension: {embedding.shape}, Embedding (first 5 components): {embedding[:5]}...\")  # Display first 5 components for brevity"
      ],
      "metadata": {
        "colab": {
          "base_uri": "https://localhost:8080/"
        },
        "id": "DkQUi9BF86dY",
        "outputId": "c44a81da-4a35-4fdf-8b6b-5f253bca6af7"
      },
      "execution_count": 5,
      "outputs": [
        {
          "output_type": "stream",
          "name": "stdout",
          "text": [
            "2.7.0+cu126\n",
            "<function is_available at 0x7b48defeafc0>\n"
          ]
        },
        {
          "output_type": "stream",
          "name": "stderr",
          "text": [
            "/usr/local/lib/python3.11/dist-packages/huggingface_hub/utils/_auth.py:94: UserWarning: \n",
            "The secret `HF_TOKEN` does not exist in your Colab secrets.\n",
            "To authenticate with the Hugging Face Hub, create a token in your settings tab (https://huggingface.co/settings/tokens), set it as secret in your Google Colab and restart your session.\n",
            "You will be able to reuse this secret in all of your notebooks.\n",
            "Please note that authentication is recommended but still optional to access public models or datasets.\n",
            "  warnings.warn(\n"
          ]
        },
        {
          "output_type": "stream",
          "name": "stdout",
          "text": [
            "Query text: Commission Correspondence and Memoranda. Bethesda, Md\n",
            "Similarity with 'Aeronautics and Space Reports to the Congress, 1958-1984. Bethesda, Md. : University Publications of America, 2012. Astronautics United States History Sources. Manned space flight History Sources. Outer space Exploration United States. United States. National Aeronautics and Space Administration.': 0.7034063339233398\n",
            "Similarity with 'Records of President Johnson's Commission on Law Enforcement, Part 1 : Commission Correspondence and Memoranda. Bethesda, Md. : University Publications of America, 2012. Law enforcement United States History 20th century Sources. Crime United States History 20th century Sources. United States. President's Commission on Law Enforcement and Administration of Justice.': 0.7431371212005615\n",
            "Similarity with 'Associated Press, Wire Copy on the Assassinations of President John F. Kennedy and Senator Robert F. Kennedy. Bethesda, Md. : University Publications of America, 2012. Associated Press. Kennedy, John F. (John Fitzgerald), 1917-1963 Assassination Sources. Kennedy, Robert F., 1925-1968 Assassination.': 0.6798088550567627\n"
          ]
        }
      ]
    }
  ]
}